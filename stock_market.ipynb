{
  "nbformat": 4,
  "nbformat_minor": 0,
  "metadata": {
    "colab": {
      "provenance": [],
      "authorship_tag": "ABX9TyOeglGHwzVJwvQIZQC7liu4",
      "include_colab_link": true
    },
    "kernelspec": {
      "name": "python3",
      "display_name": "Python 3"
    },
    "language_info": {
      "name": "python"
    }
  },
  "cells": [
    {
      "cell_type": "markdown",
      "metadata": {
        "id": "view-in-github",
        "colab_type": "text"
      },
      "source": [
        "<a href=\"https://colab.research.google.com/github/Gdeepika-7/LGMVIP_DS/blob/main/stock_market.ipynb\" target=\"_parent\"><img src=\"https://colab.research.google.com/assets/colab-badge.svg\" alt=\"Open In Colab\"/></a>"
      ]
    },
    {
      "cell_type": "markdown",
      "source": [
        "**Loading the Dataset**"
      ],
      "metadata": {
        "id": "TQJIiV4H5_mY"
      }
    },
    {
      "cell_type": "code",
      "execution_count": null,
      "metadata": {
        "colab": {
          "base_uri": "https://localhost:8080/",
          "height": 423
        },
        "id": "sehHkjXjTNIJ",
        "outputId": "244d5457-db71-432c-bc7a-a398e27699b2"
      },
      "outputs": [
        {
          "output_type": "execute_result",
          "data": {
            "text/plain": [
              "            Date    Open    High     Low    Last   Close  \\\n",
              "0     2018-10-08  208.00  222.25  206.85  216.00  215.15   \n",
              "1     2018-10-05  217.00  218.60  205.90  210.25  209.20   \n",
              "2     2018-10-04  223.50  227.80  216.15  217.25  218.20   \n",
              "3     2018-10-03  230.00  237.50  225.75  226.45  227.60   \n",
              "4     2018-10-01  234.55  234.60  221.05  230.30  230.90   \n",
              "...          ...     ...     ...     ...     ...     ...   \n",
              "1230  2013-10-14  160.85  161.45  157.70  159.30  159.45   \n",
              "1231  2013-10-11  161.15  163.45  159.00  159.80  160.05   \n",
              "1232  2013-10-10  156.00  160.80  155.85  160.30  160.15   \n",
              "1233  2013-10-09  155.70  158.20  154.15  155.30  155.55   \n",
              "1234  2013-10-08  157.00  157.80  155.20  155.80  155.80   \n",
              "\n",
              "      Total Trade Quantity  Turnover (Lacs)  \n",
              "0                4642146.0         10062.83  \n",
              "1                3519515.0          7407.06  \n",
              "2                1728786.0          3815.79  \n",
              "3                1708590.0          3960.27  \n",
              "4                1534749.0          3486.05  \n",
              "...                    ...              ...  \n",
              "1230             1281419.0          2039.09  \n",
              "1231             1880046.0          3030.76  \n",
              "1232             3124853.0          4978.80  \n",
              "1233             2049580.0          3204.49  \n",
              "1234             1720413.0          2688.94  \n",
              "\n",
              "[1235 rows x 8 columns]"
            ],
            "text/html": [
              "\n",
              "  <div id=\"df-dc4b496c-0164-41b2-8987-c0173801dbe8\">\n",
              "    <div class=\"colab-df-container\">\n",
              "      <div>\n",
              "<style scoped>\n",
              "    .dataframe tbody tr th:only-of-type {\n",
              "        vertical-align: middle;\n",
              "    }\n",
              "\n",
              "    .dataframe tbody tr th {\n",
              "        vertical-align: top;\n",
              "    }\n",
              "\n",
              "    .dataframe thead th {\n",
              "        text-align: right;\n",
              "    }\n",
              "</style>\n",
              "<table border=\"1\" class=\"dataframe\">\n",
              "  <thead>\n",
              "    <tr style=\"text-align: right;\">\n",
              "      <th></th>\n",
              "      <th>Date</th>\n",
              "      <th>Open</th>\n",
              "      <th>High</th>\n",
              "      <th>Low</th>\n",
              "      <th>Last</th>\n",
              "      <th>Close</th>\n",
              "      <th>Total Trade Quantity</th>\n",
              "      <th>Turnover (Lacs)</th>\n",
              "    </tr>\n",
              "  </thead>\n",
              "  <tbody>\n",
              "    <tr>\n",
              "      <th>0</th>\n",
              "      <td>2018-10-08</td>\n",
              "      <td>208.00</td>\n",
              "      <td>222.25</td>\n",
              "      <td>206.85</td>\n",
              "      <td>216.00</td>\n",
              "      <td>215.15</td>\n",
              "      <td>4642146.0</td>\n",
              "      <td>10062.83</td>\n",
              "    </tr>\n",
              "    <tr>\n",
              "      <th>1</th>\n",
              "      <td>2018-10-05</td>\n",
              "      <td>217.00</td>\n",
              "      <td>218.60</td>\n",
              "      <td>205.90</td>\n",
              "      <td>210.25</td>\n",
              "      <td>209.20</td>\n",
              "      <td>3519515.0</td>\n",
              "      <td>7407.06</td>\n",
              "    </tr>\n",
              "    <tr>\n",
              "      <th>2</th>\n",
              "      <td>2018-10-04</td>\n",
              "      <td>223.50</td>\n",
              "      <td>227.80</td>\n",
              "      <td>216.15</td>\n",
              "      <td>217.25</td>\n",
              "      <td>218.20</td>\n",
              "      <td>1728786.0</td>\n",
              "      <td>3815.79</td>\n",
              "    </tr>\n",
              "    <tr>\n",
              "      <th>3</th>\n",
              "      <td>2018-10-03</td>\n",
              "      <td>230.00</td>\n",
              "      <td>237.50</td>\n",
              "      <td>225.75</td>\n",
              "      <td>226.45</td>\n",
              "      <td>227.60</td>\n",
              "      <td>1708590.0</td>\n",
              "      <td>3960.27</td>\n",
              "    </tr>\n",
              "    <tr>\n",
              "      <th>4</th>\n",
              "      <td>2018-10-01</td>\n",
              "      <td>234.55</td>\n",
              "      <td>234.60</td>\n",
              "      <td>221.05</td>\n",
              "      <td>230.30</td>\n",
              "      <td>230.90</td>\n",
              "      <td>1534749.0</td>\n",
              "      <td>3486.05</td>\n",
              "    </tr>\n",
              "    <tr>\n",
              "      <th>...</th>\n",
              "      <td>...</td>\n",
              "      <td>...</td>\n",
              "      <td>...</td>\n",
              "      <td>...</td>\n",
              "      <td>...</td>\n",
              "      <td>...</td>\n",
              "      <td>...</td>\n",
              "      <td>...</td>\n",
              "    </tr>\n",
              "    <tr>\n",
              "      <th>1230</th>\n",
              "      <td>2013-10-14</td>\n",
              "      <td>160.85</td>\n",
              "      <td>161.45</td>\n",
              "      <td>157.70</td>\n",
              "      <td>159.30</td>\n",
              "      <td>159.45</td>\n",
              "      <td>1281419.0</td>\n",
              "      <td>2039.09</td>\n",
              "    </tr>\n",
              "    <tr>\n",
              "      <th>1231</th>\n",
              "      <td>2013-10-11</td>\n",
              "      <td>161.15</td>\n",
              "      <td>163.45</td>\n",
              "      <td>159.00</td>\n",
              "      <td>159.80</td>\n",
              "      <td>160.05</td>\n",
              "      <td>1880046.0</td>\n",
              "      <td>3030.76</td>\n",
              "    </tr>\n",
              "    <tr>\n",
              "      <th>1232</th>\n",
              "      <td>2013-10-10</td>\n",
              "      <td>156.00</td>\n",
              "      <td>160.80</td>\n",
              "      <td>155.85</td>\n",
              "      <td>160.30</td>\n",
              "      <td>160.15</td>\n",
              "      <td>3124853.0</td>\n",
              "      <td>4978.80</td>\n",
              "    </tr>\n",
              "    <tr>\n",
              "      <th>1233</th>\n",
              "      <td>2013-10-09</td>\n",
              "      <td>155.70</td>\n",
              "      <td>158.20</td>\n",
              "      <td>154.15</td>\n",
              "      <td>155.30</td>\n",
              "      <td>155.55</td>\n",
              "      <td>2049580.0</td>\n",
              "      <td>3204.49</td>\n",
              "    </tr>\n",
              "    <tr>\n",
              "      <th>1234</th>\n",
              "      <td>2013-10-08</td>\n",
              "      <td>157.00</td>\n",
              "      <td>157.80</td>\n",
              "      <td>155.20</td>\n",
              "      <td>155.80</td>\n",
              "      <td>155.80</td>\n",
              "      <td>1720413.0</td>\n",
              "      <td>2688.94</td>\n",
              "    </tr>\n",
              "  </tbody>\n",
              "</table>\n",
              "<p>1235 rows × 8 columns</p>\n",
              "</div>\n",
              "      <button class=\"colab-df-convert\" onclick=\"convertToInteractive('df-dc4b496c-0164-41b2-8987-c0173801dbe8')\"\n",
              "              title=\"Convert this dataframe to an interactive table.\"\n",
              "              style=\"display:none;\">\n",
              "        \n",
              "  <svg xmlns=\"http://www.w3.org/2000/svg\" height=\"24px\"viewBox=\"0 0 24 24\"\n",
              "       width=\"24px\">\n",
              "    <path d=\"M0 0h24v24H0V0z\" fill=\"none\"/>\n",
              "    <path d=\"M18.56 5.44l.94 2.06.94-2.06 2.06-.94-2.06-.94-.94-2.06-.94 2.06-2.06.94zm-11 1L8.5 8.5l.94-2.06 2.06-.94-2.06-.94L8.5 2.5l-.94 2.06-2.06.94zm10 10l.94 2.06.94-2.06 2.06-.94-2.06-.94-.94-2.06-.94 2.06-2.06.94z\"/><path d=\"M17.41 7.96l-1.37-1.37c-.4-.4-.92-.59-1.43-.59-.52 0-1.04.2-1.43.59L10.3 9.45l-7.72 7.72c-.78.78-.78 2.05 0 2.83L4 21.41c.39.39.9.59 1.41.59.51 0 1.02-.2 1.41-.59l7.78-7.78 2.81-2.81c.8-.78.8-2.07 0-2.86zM5.41 20L4 18.59l7.72-7.72 1.47 1.35L5.41 20z\"/>\n",
              "  </svg>\n",
              "      </button>\n",
              "      \n",
              "  <style>\n",
              "    .colab-df-container {\n",
              "      display:flex;\n",
              "      flex-wrap:wrap;\n",
              "      gap: 12px;\n",
              "    }\n",
              "\n",
              "    .colab-df-convert {\n",
              "      background-color: #E8F0FE;\n",
              "      border: none;\n",
              "      border-radius: 50%;\n",
              "      cursor: pointer;\n",
              "      display: none;\n",
              "      fill: #1967D2;\n",
              "      height: 32px;\n",
              "      padding: 0 0 0 0;\n",
              "      width: 32px;\n",
              "    }\n",
              "\n",
              "    .colab-df-convert:hover {\n",
              "      background-color: #E2EBFA;\n",
              "      box-shadow: 0px 1px 2px rgba(60, 64, 67, 0.3), 0px 1px 3px 1px rgba(60, 64, 67, 0.15);\n",
              "      fill: #174EA6;\n",
              "    }\n",
              "\n",
              "    [theme=dark] .colab-df-convert {\n",
              "      background-color: #3B4455;\n",
              "      fill: #D2E3FC;\n",
              "    }\n",
              "\n",
              "    [theme=dark] .colab-df-convert:hover {\n",
              "      background-color: #434B5C;\n",
              "      box-shadow: 0px 1px 3px 1px rgba(0, 0, 0, 0.15);\n",
              "      filter: drop-shadow(0px 1px 2px rgba(0, 0, 0, 0.3));\n",
              "      fill: #FFFFFF;\n",
              "    }\n",
              "  </style>\n",
              "\n",
              "      <script>\n",
              "        const buttonEl =\n",
              "          document.querySelector('#df-dc4b496c-0164-41b2-8987-c0173801dbe8 button.colab-df-convert');\n",
              "        buttonEl.style.display =\n",
              "          google.colab.kernel.accessAllowed ? 'block' : 'none';\n",
              "\n",
              "        async function convertToInteractive(key) {\n",
              "          const element = document.querySelector('#df-dc4b496c-0164-41b2-8987-c0173801dbe8');\n",
              "          const dataTable =\n",
              "            await google.colab.kernel.invokeFunction('convertToInteractive',\n",
              "                                                     [key], {});\n",
              "          if (!dataTable) return;\n",
              "\n",
              "          const docLinkHtml = 'Like what you see? Visit the ' +\n",
              "            '<a target=\"_blank\" href=https://colab.research.google.com/notebooks/data_table.ipynb>data table notebook</a>'\n",
              "            + ' to learn more about interactive tables.';\n",
              "          element.innerHTML = '';\n",
              "          dataTable['output_type'] = 'display_data';\n",
              "          await google.colab.output.renderOutput(dataTable, element);\n",
              "          const docLink = document.createElement('div');\n",
              "          docLink.innerHTML = docLinkHtml;\n",
              "          element.appendChild(docLink);\n",
              "        }\n",
              "      </script>\n",
              "    </div>\n",
              "  </div>\n",
              "  "
            ]
          },
          "metadata": {},
          "execution_count": 39
        }
      ],
      "source": [
        "import numpy as np\n",
        "import pandas as pd\n",
        "stock=pd.read_csv('/NSE-TATAGLOBAL11.csv')\n",
        "stock"
      ]
    },
    {
      "cell_type": "markdown",
      "source": [
        "**Information about the Dataset**"
      ],
      "metadata": {
        "id": "SQElXl5w6dyW"
      }
    },
    {
      "cell_type": "code",
      "source": [
        "stock.shape\n",
        "stock.info()\n",
        "stock.dtypes"
      ],
      "metadata": {
        "colab": {
          "base_uri": "https://localhost:8080/"
        },
        "id": "iHDdC9MUWKYS",
        "outputId": "93501254-f043-4f9a-83f1-4cf89aed1067"
      },
      "execution_count": null,
      "outputs": [
        {
          "output_type": "stream",
          "name": "stdout",
          "text": [
            "<class 'pandas.core.frame.DataFrame'>\n",
            "RangeIndex: 1235 entries, 0 to 1234\n",
            "Data columns (total 8 columns):\n",
            " #   Column                Non-Null Count  Dtype  \n",
            "---  ------                --------------  -----  \n",
            " 0   Date                  1235 non-null   object \n",
            " 1   Open                  1235 non-null   float64\n",
            " 2   High                  1235 non-null   float64\n",
            " 3   Low                   1235 non-null   float64\n",
            " 4   Last                  1235 non-null   float64\n",
            " 5   Close                 1235 non-null   float64\n",
            " 6   Total Trade Quantity  1235 non-null   float64\n",
            " 7   Turnover (Lacs)       1235 non-null   float64\n",
            "dtypes: float64(7), object(1)\n",
            "memory usage: 77.3+ KB\n"
          ]
        },
        {
          "output_type": "execute_result",
          "data": {
            "text/plain": [
              "Date                     object\n",
              "Open                    float64\n",
              "High                    float64\n",
              "Low                     float64\n",
              "Last                    float64\n",
              "Close                   float64\n",
              "Total Trade Quantity    float64\n",
              "Turnover (Lacs)         float64\n",
              "dtype: object"
            ]
          },
          "metadata": {},
          "execution_count": 40
        }
      ]
    },
    {
      "cell_type": "markdown",
      "source": [
        "**Checking for the null values**"
      ],
      "metadata": {
        "id": "TncpqW2g6sU6"
      }
    },
    {
      "cell_type": "code",
      "source": [
        "missing_value_count=stock.isnull().sum()\n",
        "total_cells=np.product(stock.shape)\n",
        "total_missing=missing_value_count.sum()\n",
        "percentage_missing=(total_missing/total_cells)*100\n",
        "print(percentage_missing)"
      ],
      "metadata": {
        "colab": {
          "base_uri": "https://localhost:8080/"
        },
        "id": "_9GZYrpCXs2I",
        "outputId": "b8a73768-63ff-4ccc-a3ad-ba6d49cbb589"
      },
      "execution_count": null,
      "outputs": [
        {
          "output_type": "stream",
          "name": "stdout",
          "text": [
            "0.0\n"
          ]
        }
      ]
    },
    {
      "cell_type": "code",
      "source": [
        "stock=stock[::-1]\n",
        "stock"
      ],
      "metadata": {
        "colab": {
          "base_uri": "https://localhost:8080/",
          "height": 423
        },
        "id": "a_a9nKhTZi6l",
        "outputId": "53ec3eb6-96ab-4ba7-de97-6850a6239930"
      },
      "execution_count": null,
      "outputs": [
        {
          "output_type": "execute_result",
          "data": {
            "text/plain": [
              "            Date    Open    High     Low    Last   Close  \\\n",
              "1234  2013-10-08  157.00  157.80  155.20  155.80  155.80   \n",
              "1233  2013-10-09  155.70  158.20  154.15  155.30  155.55   \n",
              "1232  2013-10-10  156.00  160.80  155.85  160.30  160.15   \n",
              "1231  2013-10-11  161.15  163.45  159.00  159.80  160.05   \n",
              "1230  2013-10-14  160.85  161.45  157.70  159.30  159.45   \n",
              "...          ...     ...     ...     ...     ...     ...   \n",
              "4     2018-10-01  234.55  234.60  221.05  230.30  230.90   \n",
              "3     2018-10-03  230.00  237.50  225.75  226.45  227.60   \n",
              "2     2018-10-04  223.50  227.80  216.15  217.25  218.20   \n",
              "1     2018-10-05  217.00  218.60  205.90  210.25  209.20   \n",
              "0     2018-10-08  208.00  222.25  206.85  216.00  215.15   \n",
              "\n",
              "      Total Trade Quantity  Turnover (Lacs)  \n",
              "1234             1720413.0          2688.94  \n",
              "1233             2049580.0          3204.49  \n",
              "1232             3124853.0          4978.80  \n",
              "1231             1880046.0          3030.76  \n",
              "1230             1281419.0          2039.09  \n",
              "...                    ...              ...  \n",
              "4                1534749.0          3486.05  \n",
              "3                1708590.0          3960.27  \n",
              "2                1728786.0          3815.79  \n",
              "1                3519515.0          7407.06  \n",
              "0                4642146.0         10062.83  \n",
              "\n",
              "[1235 rows x 8 columns]"
            ],
            "text/html": [
              "\n",
              "  <div id=\"df-b68c7d29-4525-49a0-9c0d-4a144dca1824\">\n",
              "    <div class=\"colab-df-container\">\n",
              "      <div>\n",
              "<style scoped>\n",
              "    .dataframe tbody tr th:only-of-type {\n",
              "        vertical-align: middle;\n",
              "    }\n",
              "\n",
              "    .dataframe tbody tr th {\n",
              "        vertical-align: top;\n",
              "    }\n",
              "\n",
              "    .dataframe thead th {\n",
              "        text-align: right;\n",
              "    }\n",
              "</style>\n",
              "<table border=\"1\" class=\"dataframe\">\n",
              "  <thead>\n",
              "    <tr style=\"text-align: right;\">\n",
              "      <th></th>\n",
              "      <th>Date</th>\n",
              "      <th>Open</th>\n",
              "      <th>High</th>\n",
              "      <th>Low</th>\n",
              "      <th>Last</th>\n",
              "      <th>Close</th>\n",
              "      <th>Total Trade Quantity</th>\n",
              "      <th>Turnover (Lacs)</th>\n",
              "    </tr>\n",
              "  </thead>\n",
              "  <tbody>\n",
              "    <tr>\n",
              "      <th>1234</th>\n",
              "      <td>2013-10-08</td>\n",
              "      <td>157.00</td>\n",
              "      <td>157.80</td>\n",
              "      <td>155.20</td>\n",
              "      <td>155.80</td>\n",
              "      <td>155.80</td>\n",
              "      <td>1720413.0</td>\n",
              "      <td>2688.94</td>\n",
              "    </tr>\n",
              "    <tr>\n",
              "      <th>1233</th>\n",
              "      <td>2013-10-09</td>\n",
              "      <td>155.70</td>\n",
              "      <td>158.20</td>\n",
              "      <td>154.15</td>\n",
              "      <td>155.30</td>\n",
              "      <td>155.55</td>\n",
              "      <td>2049580.0</td>\n",
              "      <td>3204.49</td>\n",
              "    </tr>\n",
              "    <tr>\n",
              "      <th>1232</th>\n",
              "      <td>2013-10-10</td>\n",
              "      <td>156.00</td>\n",
              "      <td>160.80</td>\n",
              "      <td>155.85</td>\n",
              "      <td>160.30</td>\n",
              "      <td>160.15</td>\n",
              "      <td>3124853.0</td>\n",
              "      <td>4978.80</td>\n",
              "    </tr>\n",
              "    <tr>\n",
              "      <th>1231</th>\n",
              "      <td>2013-10-11</td>\n",
              "      <td>161.15</td>\n",
              "      <td>163.45</td>\n",
              "      <td>159.00</td>\n",
              "      <td>159.80</td>\n",
              "      <td>160.05</td>\n",
              "      <td>1880046.0</td>\n",
              "      <td>3030.76</td>\n",
              "    </tr>\n",
              "    <tr>\n",
              "      <th>1230</th>\n",
              "      <td>2013-10-14</td>\n",
              "      <td>160.85</td>\n",
              "      <td>161.45</td>\n",
              "      <td>157.70</td>\n",
              "      <td>159.30</td>\n",
              "      <td>159.45</td>\n",
              "      <td>1281419.0</td>\n",
              "      <td>2039.09</td>\n",
              "    </tr>\n",
              "    <tr>\n",
              "      <th>...</th>\n",
              "      <td>...</td>\n",
              "      <td>...</td>\n",
              "      <td>...</td>\n",
              "      <td>...</td>\n",
              "      <td>...</td>\n",
              "      <td>...</td>\n",
              "      <td>...</td>\n",
              "      <td>...</td>\n",
              "    </tr>\n",
              "    <tr>\n",
              "      <th>4</th>\n",
              "      <td>2018-10-01</td>\n",
              "      <td>234.55</td>\n",
              "      <td>234.60</td>\n",
              "      <td>221.05</td>\n",
              "      <td>230.30</td>\n",
              "      <td>230.90</td>\n",
              "      <td>1534749.0</td>\n",
              "      <td>3486.05</td>\n",
              "    </tr>\n",
              "    <tr>\n",
              "      <th>3</th>\n",
              "      <td>2018-10-03</td>\n",
              "      <td>230.00</td>\n",
              "      <td>237.50</td>\n",
              "      <td>225.75</td>\n",
              "      <td>226.45</td>\n",
              "      <td>227.60</td>\n",
              "      <td>1708590.0</td>\n",
              "      <td>3960.27</td>\n",
              "    </tr>\n",
              "    <tr>\n",
              "      <th>2</th>\n",
              "      <td>2018-10-04</td>\n",
              "      <td>223.50</td>\n",
              "      <td>227.80</td>\n",
              "      <td>216.15</td>\n",
              "      <td>217.25</td>\n",
              "      <td>218.20</td>\n",
              "      <td>1728786.0</td>\n",
              "      <td>3815.79</td>\n",
              "    </tr>\n",
              "    <tr>\n",
              "      <th>1</th>\n",
              "      <td>2018-10-05</td>\n",
              "      <td>217.00</td>\n",
              "      <td>218.60</td>\n",
              "      <td>205.90</td>\n",
              "      <td>210.25</td>\n",
              "      <td>209.20</td>\n",
              "      <td>3519515.0</td>\n",
              "      <td>7407.06</td>\n",
              "    </tr>\n",
              "    <tr>\n",
              "      <th>0</th>\n",
              "      <td>2018-10-08</td>\n",
              "      <td>208.00</td>\n",
              "      <td>222.25</td>\n",
              "      <td>206.85</td>\n",
              "      <td>216.00</td>\n",
              "      <td>215.15</td>\n",
              "      <td>4642146.0</td>\n",
              "      <td>10062.83</td>\n",
              "    </tr>\n",
              "  </tbody>\n",
              "</table>\n",
              "<p>1235 rows × 8 columns</p>\n",
              "</div>\n",
              "      <button class=\"colab-df-convert\" onclick=\"convertToInteractive('df-b68c7d29-4525-49a0-9c0d-4a144dca1824')\"\n",
              "              title=\"Convert this dataframe to an interactive table.\"\n",
              "              style=\"display:none;\">\n",
              "        \n",
              "  <svg xmlns=\"http://www.w3.org/2000/svg\" height=\"24px\"viewBox=\"0 0 24 24\"\n",
              "       width=\"24px\">\n",
              "    <path d=\"M0 0h24v24H0V0z\" fill=\"none\"/>\n",
              "    <path d=\"M18.56 5.44l.94 2.06.94-2.06 2.06-.94-2.06-.94-.94-2.06-.94 2.06-2.06.94zm-11 1L8.5 8.5l.94-2.06 2.06-.94-2.06-.94L8.5 2.5l-.94 2.06-2.06.94zm10 10l.94 2.06.94-2.06 2.06-.94-2.06-.94-.94-2.06-.94 2.06-2.06.94z\"/><path d=\"M17.41 7.96l-1.37-1.37c-.4-.4-.92-.59-1.43-.59-.52 0-1.04.2-1.43.59L10.3 9.45l-7.72 7.72c-.78.78-.78 2.05 0 2.83L4 21.41c.39.39.9.59 1.41.59.51 0 1.02-.2 1.41-.59l7.78-7.78 2.81-2.81c.8-.78.8-2.07 0-2.86zM5.41 20L4 18.59l7.72-7.72 1.47 1.35L5.41 20z\"/>\n",
              "  </svg>\n",
              "      </button>\n",
              "      \n",
              "  <style>\n",
              "    .colab-df-container {\n",
              "      display:flex;\n",
              "      flex-wrap:wrap;\n",
              "      gap: 12px;\n",
              "    }\n",
              "\n",
              "    .colab-df-convert {\n",
              "      background-color: #E8F0FE;\n",
              "      border: none;\n",
              "      border-radius: 50%;\n",
              "      cursor: pointer;\n",
              "      display: none;\n",
              "      fill: #1967D2;\n",
              "      height: 32px;\n",
              "      padding: 0 0 0 0;\n",
              "      width: 32px;\n",
              "    }\n",
              "\n",
              "    .colab-df-convert:hover {\n",
              "      background-color: #E2EBFA;\n",
              "      box-shadow: 0px 1px 2px rgba(60, 64, 67, 0.3), 0px 1px 3px 1px rgba(60, 64, 67, 0.15);\n",
              "      fill: #174EA6;\n",
              "    }\n",
              "\n",
              "    [theme=dark] .colab-df-convert {\n",
              "      background-color: #3B4455;\n",
              "      fill: #D2E3FC;\n",
              "    }\n",
              "\n",
              "    [theme=dark] .colab-df-convert:hover {\n",
              "      background-color: #434B5C;\n",
              "      box-shadow: 0px 1px 3px 1px rgba(0, 0, 0, 0.15);\n",
              "      filter: drop-shadow(0px 1px 2px rgba(0, 0, 0, 0.3));\n",
              "      fill: #FFFFFF;\n",
              "    }\n",
              "  </style>\n",
              "\n",
              "      <script>\n",
              "        const buttonEl =\n",
              "          document.querySelector('#df-b68c7d29-4525-49a0-9c0d-4a144dca1824 button.colab-df-convert');\n",
              "        buttonEl.style.display =\n",
              "          google.colab.kernel.accessAllowed ? 'block' : 'none';\n",
              "\n",
              "        async function convertToInteractive(key) {\n",
              "          const element = document.querySelector('#df-b68c7d29-4525-49a0-9c0d-4a144dca1824');\n",
              "          const dataTable =\n",
              "            await google.colab.kernel.invokeFunction('convertToInteractive',\n",
              "                                                     [key], {});\n",
              "          if (!dataTable) return;\n",
              "\n",
              "          const docLinkHtml = 'Like what you see? Visit the ' +\n",
              "            '<a target=\"_blank\" href=https://colab.research.google.com/notebooks/data_table.ipynb>data table notebook</a>'\n",
              "            + ' to learn more about interactive tables.';\n",
              "          element.innerHTML = '';\n",
              "          dataTable['output_type'] = 'display_data';\n",
              "          await google.colab.output.renderOutput(dataTable, element);\n",
              "          const docLink = document.createElement('div');\n",
              "          docLink.innerHTML = docLinkHtml;\n",
              "          element.appendChild(docLink);\n",
              "        }\n",
              "      </script>\n",
              "    </div>\n",
              "  </div>\n",
              "  "
            ]
          },
          "metadata": {},
          "execution_count": 42
        }
      ]
    },
    {
      "cell_type": "code",
      "source": [
        "stock.describe()"
      ],
      "metadata": {
        "colab": {
          "base_uri": "https://localhost:8080/",
          "height": 344
        },
        "id": "Ml7IRcN-tSqy",
        "outputId": "6e7142ab-10c3-41f3-e7f2-4a91a098aaf8"
      },
      "execution_count": null,
      "outputs": [
        {
          "output_type": "execute_result",
          "data": {
            "text/plain": [
              "              Open         High          Low         Last        Close  \\\n",
              "count  1235.000000  1235.000000  1235.000000  1235.000000  1235.000000   \n",
              "mean    168.954858   171.429069   166.402308   168.736356   168.731053   \n",
              "std      51.499145    52.436761    50.542919    51.587384    51.544928   \n",
              "min     103.000000   104.600000   100.000000   102.600000   102.650000   \n",
              "25%     137.550000   138.925000   135.250000   137.175000   137.225000   \n",
              "50%     151.500000   153.250000   149.500000   151.200000   151.100000   \n",
              "75%     169.000000   172.325000   166.700000   169.100000   169.500000   \n",
              "max     327.700000   328.750000   321.650000   325.950000   325.750000   \n",
              "\n",
              "       Total Trade Quantity  Turnover (Lacs)  \n",
              "count          1.235000e+03      1235.000000  \n",
              "mean           2.604151e+06      4843.166502  \n",
              "std            2.277028e+06      5348.919832  \n",
              "min            1.001800e+05       128.040000  \n",
              "25%            1.284482e+06      1801.035000  \n",
              "50%            1.964885e+06      3068.510000  \n",
              "75%            3.095788e+06      5852.600000  \n",
              "max            2.919102e+07     55755.080000  "
            ],
            "text/html": [
              "\n",
              "  <div id=\"df-1d362f24-7757-4246-8fbc-0161c44ce079\">\n",
              "    <div class=\"colab-df-container\">\n",
              "      <div>\n",
              "<style scoped>\n",
              "    .dataframe tbody tr th:only-of-type {\n",
              "        vertical-align: middle;\n",
              "    }\n",
              "\n",
              "    .dataframe tbody tr th {\n",
              "        vertical-align: top;\n",
              "    }\n",
              "\n",
              "    .dataframe thead th {\n",
              "        text-align: right;\n",
              "    }\n",
              "</style>\n",
              "<table border=\"1\" class=\"dataframe\">\n",
              "  <thead>\n",
              "    <tr style=\"text-align: right;\">\n",
              "      <th></th>\n",
              "      <th>Open</th>\n",
              "      <th>High</th>\n",
              "      <th>Low</th>\n",
              "      <th>Last</th>\n",
              "      <th>Close</th>\n",
              "      <th>Total Trade Quantity</th>\n",
              "      <th>Turnover (Lacs)</th>\n",
              "    </tr>\n",
              "  </thead>\n",
              "  <tbody>\n",
              "    <tr>\n",
              "      <th>count</th>\n",
              "      <td>1235.000000</td>\n",
              "      <td>1235.000000</td>\n",
              "      <td>1235.000000</td>\n",
              "      <td>1235.000000</td>\n",
              "      <td>1235.000000</td>\n",
              "      <td>1.235000e+03</td>\n",
              "      <td>1235.000000</td>\n",
              "    </tr>\n",
              "    <tr>\n",
              "      <th>mean</th>\n",
              "      <td>168.954858</td>\n",
              "      <td>171.429069</td>\n",
              "      <td>166.402308</td>\n",
              "      <td>168.736356</td>\n",
              "      <td>168.731053</td>\n",
              "      <td>2.604151e+06</td>\n",
              "      <td>4843.166502</td>\n",
              "    </tr>\n",
              "    <tr>\n",
              "      <th>std</th>\n",
              "      <td>51.499145</td>\n",
              "      <td>52.436761</td>\n",
              "      <td>50.542919</td>\n",
              "      <td>51.587384</td>\n",
              "      <td>51.544928</td>\n",
              "      <td>2.277028e+06</td>\n",
              "      <td>5348.919832</td>\n",
              "    </tr>\n",
              "    <tr>\n",
              "      <th>min</th>\n",
              "      <td>103.000000</td>\n",
              "      <td>104.600000</td>\n",
              "      <td>100.000000</td>\n",
              "      <td>102.600000</td>\n",
              "      <td>102.650000</td>\n",
              "      <td>1.001800e+05</td>\n",
              "      <td>128.040000</td>\n",
              "    </tr>\n",
              "    <tr>\n",
              "      <th>25%</th>\n",
              "      <td>137.550000</td>\n",
              "      <td>138.925000</td>\n",
              "      <td>135.250000</td>\n",
              "      <td>137.175000</td>\n",
              "      <td>137.225000</td>\n",
              "      <td>1.284482e+06</td>\n",
              "      <td>1801.035000</td>\n",
              "    </tr>\n",
              "    <tr>\n",
              "      <th>50%</th>\n",
              "      <td>151.500000</td>\n",
              "      <td>153.250000</td>\n",
              "      <td>149.500000</td>\n",
              "      <td>151.200000</td>\n",
              "      <td>151.100000</td>\n",
              "      <td>1.964885e+06</td>\n",
              "      <td>3068.510000</td>\n",
              "    </tr>\n",
              "    <tr>\n",
              "      <th>75%</th>\n",
              "      <td>169.000000</td>\n",
              "      <td>172.325000</td>\n",
              "      <td>166.700000</td>\n",
              "      <td>169.100000</td>\n",
              "      <td>169.500000</td>\n",
              "      <td>3.095788e+06</td>\n",
              "      <td>5852.600000</td>\n",
              "    </tr>\n",
              "    <tr>\n",
              "      <th>max</th>\n",
              "      <td>327.700000</td>\n",
              "      <td>328.750000</td>\n",
              "      <td>321.650000</td>\n",
              "      <td>325.950000</td>\n",
              "      <td>325.750000</td>\n",
              "      <td>2.919102e+07</td>\n",
              "      <td>55755.080000</td>\n",
              "    </tr>\n",
              "  </tbody>\n",
              "</table>\n",
              "</div>\n",
              "      <button class=\"colab-df-convert\" onclick=\"convertToInteractive('df-1d362f24-7757-4246-8fbc-0161c44ce079')\"\n",
              "              title=\"Convert this dataframe to an interactive table.\"\n",
              "              style=\"display:none;\">\n",
              "        \n",
              "  <svg xmlns=\"http://www.w3.org/2000/svg\" height=\"24px\"viewBox=\"0 0 24 24\"\n",
              "       width=\"24px\">\n",
              "    <path d=\"M0 0h24v24H0V0z\" fill=\"none\"/>\n",
              "    <path d=\"M18.56 5.44l.94 2.06.94-2.06 2.06-.94-2.06-.94-.94-2.06-.94 2.06-2.06.94zm-11 1L8.5 8.5l.94-2.06 2.06-.94-2.06-.94L8.5 2.5l-.94 2.06-2.06.94zm10 10l.94 2.06.94-2.06 2.06-.94-2.06-.94-.94-2.06-.94 2.06-2.06.94z\"/><path d=\"M17.41 7.96l-1.37-1.37c-.4-.4-.92-.59-1.43-.59-.52 0-1.04.2-1.43.59L10.3 9.45l-7.72 7.72c-.78.78-.78 2.05 0 2.83L4 21.41c.39.39.9.59 1.41.59.51 0 1.02-.2 1.41-.59l7.78-7.78 2.81-2.81c.8-.78.8-2.07 0-2.86zM5.41 20L4 18.59l7.72-7.72 1.47 1.35L5.41 20z\"/>\n",
              "  </svg>\n",
              "      </button>\n",
              "      \n",
              "  <style>\n",
              "    .colab-df-container {\n",
              "      display:flex;\n",
              "      flex-wrap:wrap;\n",
              "      gap: 12px;\n",
              "    }\n",
              "\n",
              "    .colab-df-convert {\n",
              "      background-color: #E8F0FE;\n",
              "      border: none;\n",
              "      border-radius: 50%;\n",
              "      cursor: pointer;\n",
              "      display: none;\n",
              "      fill: #1967D2;\n",
              "      height: 32px;\n",
              "      padding: 0 0 0 0;\n",
              "      width: 32px;\n",
              "    }\n",
              "\n",
              "    .colab-df-convert:hover {\n",
              "      background-color: #E2EBFA;\n",
              "      box-shadow: 0px 1px 2px rgba(60, 64, 67, 0.3), 0px 1px 3px 1px rgba(60, 64, 67, 0.15);\n",
              "      fill: #174EA6;\n",
              "    }\n",
              "\n",
              "    [theme=dark] .colab-df-convert {\n",
              "      background-color: #3B4455;\n",
              "      fill: #D2E3FC;\n",
              "    }\n",
              "\n",
              "    [theme=dark] .colab-df-convert:hover {\n",
              "      background-color: #434B5C;\n",
              "      box-shadow: 0px 1px 3px 1px rgba(0, 0, 0, 0.15);\n",
              "      filter: drop-shadow(0px 1px 2px rgba(0, 0, 0, 0.3));\n",
              "      fill: #FFFFFF;\n",
              "    }\n",
              "  </style>\n",
              "\n",
              "      <script>\n",
              "        const buttonEl =\n",
              "          document.querySelector('#df-1d362f24-7757-4246-8fbc-0161c44ce079 button.colab-df-convert');\n",
              "        buttonEl.style.display =\n",
              "          google.colab.kernel.accessAllowed ? 'block' : 'none';\n",
              "\n",
              "        async function convertToInteractive(key) {\n",
              "          const element = document.querySelector('#df-1d362f24-7757-4246-8fbc-0161c44ce079');\n",
              "          const dataTable =\n",
              "            await google.colab.kernel.invokeFunction('convertToInteractive',\n",
              "                                                     [key], {});\n",
              "          if (!dataTable) return;\n",
              "\n",
              "          const docLinkHtml = 'Like what you see? Visit the ' +\n",
              "            '<a target=\"_blank\" href=https://colab.research.google.com/notebooks/data_table.ipynb>data table notebook</a>'\n",
              "            + ' to learn more about interactive tables.';\n",
              "          element.innerHTML = '';\n",
              "          dataTable['output_type'] = 'display_data';\n",
              "          await google.colab.output.renderOutput(dataTable, element);\n",
              "          const docLink = document.createElement('div');\n",
              "          docLink.innerHTML = docLinkHtml;\n",
              "          element.appendChild(docLink);\n",
              "        }\n",
              "      </script>\n",
              "    </div>\n",
              "  </div>\n",
              "  "
            ]
          },
          "metadata": {},
          "execution_count": 43
        }
      ]
    },
    {
      "cell_type": "markdown",
      "source": [
        "**Heatmap Generation**"
      ],
      "metadata": {
        "id": "EzHJTdZK698a"
      }
    },
    {
      "cell_type": "code",
      "source": [
        "import matplotlib.pyplot as plt\n",
        "import seaborn as sns\n",
        "sns.heatmap(stock.corr(), annot=True)\n",
        "plt.show()"
      ],
      "metadata": {
        "colab": {
          "base_uri": "https://localhost:8080/",
          "height": 359
        },
        "id": "IHNYoeojvfVb",
        "outputId": "54cfd23d-826b-4975-b2f4-3e1c64ac5b74"
      },
      "execution_count": null,
      "outputs": [
        {
          "output_type": "display_data",
          "data": {
            "text/plain": [
              "<Figure size 432x288 with 2 Axes>"
            ],
            "image/png": "[encoded data removed]"
          },
          "metadata": {
            "needs_background": "light"
          }
        }
      ]
    },
    {
      "cell_type": "code",
      "source": [
        "stock_high=stock.reset_index()['High']\n",
        "stock_high"
      ],
      "metadata": {
        "colab": {
          "base_uri": "https://localhost:8080/"
        },
        "id": "X0KYqleKwTxz",
        "outputId": "f835ae31-9bff-419b-d618-ba9306a8e70e"
      },
      "execution_count": null,
      "outputs": [
        {
          "output_type": "execute_result",
          "data": {
            "text/plain": [
              "0       157.80\n",
              "1       158.20\n",
              "2       160.80\n",
              "3       163.45\n",
              "4       161.45\n",
              "         ...  \n",
              "1230    234.60\n",
              "1231    237.50\n",
              "1232    227.80\n",
              "1233    218.60\n",
              "1234    222.25\n",
              "Name: High, Length: 1235, dtype: float64"
            ]
          },
          "metadata": {},
          "execution_count": 45
        }
      ]
    },
    {
      "cell_type": "code",
      "source": [
        "plt.plot(stock_high)\n",
        "plt.show()"
      ],
      "metadata": {
        "colab": {
          "base_uri": "https://localhost:8080/",
          "height": 265
        },
        "id": "wyr8KBEkxK9P",
        "outputId": "d86eddb9-1fe9-4480-aa18-da7bcf08fb0f"
      },
      "execution_count": null,
      "outputs": [
        {
          "output_type": "display_data",
          "data": {
            "text/plain": [
              "<Figure size 432x288 with 1 Axes>"
            ],
            "image/png": "[encoded data removed]"
          },
          "metadata": {
            "needs_background": "light"
          }
        }
      ]
    },
    {
      "cell_type": "markdown",
      "source": [
        "**Data Preprocessing**"
      ],
      "metadata": {
        "id": "HRIOU_p47K5b"
      }
    },
    {
      "cell_type": "code",
      "source": [
        "from sklearn.preprocessing import MinMaxScaler\n",
        "scaler=MinMaxScaler()\n",
        "stock_high=scaler.fit_transform(stock_high.values.reshape(-1,1))\n",
        "stock_high"
      ],
      "metadata": {
        "colab": {
          "base_uri": "https://localhost:8080/"
        },
        "id": "sRAs_i4CyJAu",
        "outputId": "ce606ddf-e568-4b82-bac4-c39d197215e7"
      },
      "execution_count": null,
      "outputs": [
        {
          "output_type": "execute_result",
          "data": {
            "text/plain": [
              "array([[0.23734107],\n",
              "       [0.23912559],\n",
              "       [0.25072496],\n",
              "       ...,\n",
              "       [0.54963194],\n",
              "       [0.508588  ],\n",
              "       [0.52487174]])"
            ]
          },
          "metadata": {},
          "execution_count": 47
        }
      ]
    },
    {
      "cell_type": "markdown",
      "source": [
        "**Splitting the Training and Testing Data**"
      ],
      "metadata": {
        "id": "WM0giE8z7VzE"
      }
    },
    {
      "cell_type": "code",
      "source": [
        "train_size=int(len(stock_high)*0.8)\n",
        "test_size=len(stock_high)-train_size\n",
        "train_size,test_size"
      ],
      "metadata": {
        "colab": {
          "base_uri": "https://localhost:8080/"
        },
        "id": "EW_NzjhUzIT0",
        "outputId": "2b52d946-a8d2-4d72-af83-4d5492d0aff2"
      },
      "execution_count": null,
      "outputs": [
        {
          "output_type": "execute_result",
          "data": {
            "text/plain": [
              "(988, 247)"
            ]
          },
          "metadata": {},
          "execution_count": 48
        }
      ]
    },
    {
      "cell_type": "code",
      "source": [
        "train_data,test_data=stock_high[:train_size],stock_high[train_size::1]\n",
        "train_data.shape"
      ],
      "metadata": {
        "colab": {
          "base_uri": "https://localhost:8080/"
        },
        "id": "KZZErMcY05XU",
        "outputId": "a9b17009-3873-4fd3-b76a-9d8f57c42720"
      },
      "execution_count": null,
      "outputs": [
        {
          "output_type": "execute_result",
          "data": {
            "text/plain": [
              "(988, 1)"
            ]
          },
          "metadata": {},
          "execution_count": 49
        }
      ]
    },
    {
      "cell_type": "code",
      "source": [
        "# Here time step=100 indicates that we are looking at previous 100 values for predicting 101th value\n",
        "def create_data(data,time_step):\n",
        "  X_data,Y_data=[],[]\n",
        "  for i in range(len(data)-time_step-1):\n",
        "    X_data.append(data[i:i+time_step,0])\n",
        "    Y_data.append(data[i+time_step,0])\n",
        "  return np.array(X_data),np.array(Y_data)\n",
        "\n"
      ],
      "metadata": {
        "id": "n5c3dFMB1gLu"
      },
      "execution_count": null,
      "outputs": []
    },
    {
      "cell_type": "code",
      "source": [
        "time_step=100\n",
        "X_train,Y_train=create_data(train_data,time_step)\n",
        "X_test,Y_test=create_data(test_data,time_step)"
      ],
      "metadata": {
        "id": "gxj5mll037Dl"
      },
      "execution_count": null,
      "outputs": []
    },
    {
      "cell_type": "code",
      "source": [
        "# Make the data in to 3D data because, it is an LSTM requirement\n",
        "X_train=X_train.reshape(X_train.shape[0],X_train.shape[1],1)\n",
        "X_test=X_test.reshape(X_test.shape[0],X_test.shape[1],1)\n",
        "X_train.shape,Y_train.shape"
      ],
      "metadata": {
        "colab": {
          "base_uri": "https://localhost:8080/"
        },
        "id": "YF0a0F6f4SLe",
        "outputId": "58c7f00c-8bbe-470a-d709-61453e6d99a3"
      },
      "execution_count": null,
      "outputs": [
        {
          "output_type": "execute_result",
          "data": {
            "text/plain": [
              "((887, 100, 1), (887,))"
            ]
          },
          "metadata": {},
          "execution_count": 52
        }
      ]
    },
    {
      "cell_type": "markdown",
      "source": [
        "**LSTM Model Creation**"
      ],
      "metadata": {
        "id": "TJhsEI0m7fxB"
      }
    },
    {
      "cell_type": "code",
      "source": [
        "import tensorflow as tf\n",
        "from tensorflow.python.keras.models import Sequential\n",
        "from tensorflow.python.keras.layers import Dense,LSTM\n",
        "model=Sequential()\n",
        "model.add(LSTM(50, return_sequences = True,input_shape=(100,1)))\n",
        "model.add(LSTM(50,return_sequences= True))\n",
        "model.add(LSTM(50))\n",
        "model.add(Dense(1))\n",
        "model.compile(loss='mean_squared_error', optimizer='adam')\n",
        "model.summary()"
      ],
      "metadata": {
        "colab": {
          "base_uri": "https://localhost:8080/"
        },
        "id": "OsvxVp2L6Ewp",
        "outputId": "1e5f3e17-3a31-4b55-df21-ea5aed9eff37"
      },
      "execution_count": null,
      "outputs": [
        {
          "output_type": "stream",
          "name": "stdout",
          "text": [
            "Model: \"sequential_2\"\n",
            "_________________________________________________________________\n",
            "Layer (type)                 Output Shape              Param #   \n",
            "=================================================================\n",
            "lstm_6 (LSTM)                (None, 100, 50)           10400     \n",
            "_________________________________________________________________\n",
            "lstm_7 (LSTM)                (None, 100, 50)           20200     \n",
            "_________________________________________________________________\n",
            "lstm_8 (LSTM)                (None, 50)                20200     \n",
            "_________________________________________________________________\n",
            "dense_2 (Dense)              (None, 1)                 51        \n",
            "=================================================================\n",
            "Total params: 50,851\n",
            "Trainable params: 50,851\n",
            "Non-trainable params: 0\n",
            "_________________________________________________________________\n"
          ]
        }
      ]
    },
    {
      "cell_type": "code",
      "source": [
        "model.fit(X_train, Y_train, validation_data= (X_test, Y_test),epochs=100,batch_size=64,verbose=True)"
      ],
      "metadata": {
        "colab": {
          "base_uri": "https://localhost:8080/"
        },
        "id": "XVhTwGHa9D1c",
        "outputId": "73c35462-13d2-4f16-c4cb-2784f5735ab2"
      },
      "execution_count": null,
      "outputs": [
        {
          "output_type": "stream",
          "name": "stdout",
          "text": [
            "Epoch 1/100\n",
            "14/14 [==============================] - 16s 478ms/step - loss: 0.0118 - val_loss: 0.1038\n",
            "Epoch 2/100\n",
            "14/14 [==============================] - 7s 517ms/step - loss: 0.0037 - val_loss: 0.0165\n",
            "Epoch 3/100\n",
            "14/14 [==============================] - 6s 452ms/step - loss: 0.0018 - val_loss: 0.0072\n",
            "Epoch 4/100\n",
            "14/14 [==============================] - 6s 385ms/step - loss: 0.0013 - val_loss: 0.0431\n",
            "Epoch 5/100\n",
            "14/14 [==============================] - 6s 410ms/step - loss: 0.0011 - val_loss: 0.0103\n",
            "Epoch 6/100\n",
            "14/14 [==============================] - 6s 430ms/step - loss: 0.0011 - val_loss: 0.0059\n",
            "Epoch 7/100\n",
            "14/14 [==============================] - 5s 383ms/step - loss: 0.0010 - val_loss: 0.0081\n",
            "Epoch 8/100\n",
            "14/14 [==============================] - 7s 472ms/step - loss: 9.9992e-04 - val_loss: 0.0135\n",
            "Epoch 9/100\n",
            "14/14 [==============================] - 5s 382ms/step - loss: 9.5954e-04 - val_loss: 0.0105\n",
            "Epoch 10/100\n",
            "14/14 [==============================] - 7s 475ms/step - loss: 9.3541e-04 - val_loss: 0.0114\n",
            "Epoch 11/100\n",
            "14/14 [==============================] - 5s 383ms/step - loss: 9.0747e-04 - val_loss: 0.0122\n",
            "Epoch 12/100\n",
            "14/14 [==============================] - 7s 481ms/step - loss: 8.6931e-04 - val_loss: 0.0098\n",
            "Epoch 13/100\n",
            "14/14 [==============================] - 5s 381ms/step - loss: 9.0173e-04 - val_loss: 0.0069\n",
            "Epoch 14/100\n",
            "14/14 [==============================] - 7s 474ms/step - loss: 8.6296e-04 - val_loss: 0.0099\n",
            "Epoch 15/100\n",
            "14/14 [==============================] - 5s 385ms/step - loss: 7.9790e-04 - val_loss: 0.0052\n",
            "Epoch 16/100\n",
            "14/14 [==============================] - 7s 475ms/step - loss: 7.7075e-04 - val_loss: 0.0073\n",
            "Epoch 17/100\n",
            "14/14 [==============================] - 5s 384ms/step - loss: 8.2494e-04 - val_loss: 0.0081\n",
            "Epoch 18/100\n",
            "14/14 [==============================] - 7s 481ms/step - loss: 7.8676e-04 - val_loss: 0.0049\n",
            "Epoch 19/100\n",
            "14/14 [==============================] - 5s 381ms/step - loss: 7.6918e-04 - val_loss: 0.0035\n",
            "Epoch 20/100\n",
            "14/14 [==============================] - 6s 441ms/step - loss: 6.9712e-04 - val_loss: 0.0031\n",
            "Epoch 21/100\n",
            "14/14 [==============================] - 6s 395ms/step - loss: 6.8147e-04 - val_loss: 0.0037\n",
            "Epoch 22/100\n",
            "14/14 [==============================] - 6s 398ms/step - loss: 6.7337e-04 - val_loss: 0.0044\n",
            "Epoch 23/100\n",
            "14/14 [==============================] - 6s 443ms/step - loss: 7.6138e-04 - val_loss: 0.0027\n",
            "Epoch 24/100\n",
            "14/14 [==============================] - 5s 388ms/step - loss: 7.8020e-04 - val_loss: 0.0036\n",
            "Epoch 25/100\n",
            "14/14 [==============================] - 7s 479ms/step - loss: 6.4352e-04 - val_loss: 0.0027\n",
            "Epoch 26/100\n",
            "14/14 [==============================] - 5s 386ms/step - loss: 6.3696e-04 - val_loss: 0.0041\n",
            "Epoch 27/100\n",
            "14/14 [==============================] - 7s 474ms/step - loss: 6.0364e-04 - val_loss: 0.0027\n",
            "Epoch 28/100\n",
            "14/14 [==============================] - 5s 382ms/step - loss: 6.1686e-04 - val_loss: 0.0020\n",
            "Epoch 29/100\n",
            "14/14 [==============================] - 7s 473ms/step - loss: 5.7268e-04 - val_loss: 0.0024\n",
            "Epoch 30/100\n",
            "14/14 [==============================] - 5s 386ms/step - loss: 5.5552e-04 - val_loss: 0.0040\n",
            "Epoch 31/100\n",
            "14/14 [==============================] - 7s 479ms/step - loss: 5.5742e-04 - val_loss: 0.0043\n",
            "Epoch 32/100\n",
            "14/14 [==============================] - 5s 385ms/step - loss: 5.5025e-04 - val_loss: 0.0017\n",
            "Epoch 33/100\n",
            "14/14 [==============================] - 7s 473ms/step - loss: 5.3802e-04 - val_loss: 0.0022\n",
            "Epoch 34/100\n",
            "14/14 [==============================] - 5s 388ms/step - loss: 5.0812e-04 - val_loss: 0.0029\n",
            "Epoch 35/100\n",
            "14/14 [==============================] - 7s 476ms/step - loss: 5.2098e-04 - val_loss: 0.0017\n",
            "Epoch 36/100\n",
            "14/14 [==============================] - 5s 386ms/step - loss: 4.8097e-04 - val_loss: 0.0023\n",
            "Epoch 37/100\n",
            "14/14 [==============================] - 6s 440ms/step - loss: 4.9295e-04 - val_loss: 0.0037\n",
            "Epoch 38/100\n",
            "14/14 [==============================] - 6s 397ms/step - loss: 4.8087e-04 - val_loss: 0.0015\n",
            "Epoch 39/100\n",
            "14/14 [==============================] - 6s 397ms/step - loss: 4.6706e-04 - val_loss: 0.0039\n",
            "Epoch 40/100\n",
            "14/14 [==============================] - 6s 439ms/step - loss: 4.3618e-04 - val_loss: 0.0025\n",
            "Epoch 41/100\n",
            "14/14 [==============================] - 5s 385ms/step - loss: 4.1802e-04 - val_loss: 0.0022\n",
            "Epoch 42/100\n",
            "14/14 [==============================] - 7s 477ms/step - loss: 4.1315e-04 - val_loss: 0.0040\n",
            "Epoch 43/100\n",
            "14/14 [==============================] - 5s 391ms/step - loss: 4.5763e-04 - val_loss: 0.0030\n",
            "Epoch 44/100\n",
            "14/14 [==============================] - 7s 477ms/step - loss: 4.5462e-04 - val_loss: 0.0011\n",
            "Epoch 45/100\n",
            "14/14 [==============================] - 5s 387ms/step - loss: 4.5483e-04 - val_loss: 0.0048\n",
            "Epoch 46/100\n",
            "14/14 [==============================] - 7s 478ms/step - loss: 4.1462e-04 - val_loss: 0.0015\n",
            "Epoch 47/100\n",
            "14/14 [==============================] - 5s 385ms/step - loss: 3.9576e-04 - val_loss: 0.0017\n",
            "Epoch 48/100\n",
            "14/14 [==============================] - 7s 474ms/step - loss: 3.6612e-04 - val_loss: 0.0018\n",
            "Epoch 49/100\n",
            "14/14 [==============================] - 5s 386ms/step - loss: 3.5517e-04 - val_loss: 0.0027\n",
            "Epoch 50/100\n",
            "14/14 [==============================] - 7s 479ms/step - loss: 3.7346e-04 - val_loss: 0.0011\n",
            "Epoch 51/100\n",
            "14/14 [==============================] - 5s 383ms/step - loss: 3.7541e-04 - val_loss: 0.0026\n",
            "Epoch 52/100\n",
            "14/14 [==============================] - 7s 476ms/step - loss: 3.4085e-04 - val_loss: 0.0013\n",
            "Epoch 53/100\n",
            "14/14 [==============================] - 5s 384ms/step - loss: 3.3631e-04 - val_loss: 0.0017\n",
            "Epoch 54/100\n",
            "14/14 [==============================] - 6s 446ms/step - loss: 3.2450e-04 - val_loss: 0.0020\n",
            "Epoch 55/100\n",
            "14/14 [==============================] - 6s 388ms/step - loss: 3.2194e-04 - val_loss: 0.0017\n",
            "Epoch 56/100\n",
            "14/14 [==============================] - 6s 403ms/step - loss: 3.0756e-04 - val_loss: 0.0012\n",
            "Epoch 57/100\n",
            "14/14 [==============================] - 6s 434ms/step - loss: 3.1285e-04 - val_loss: 0.0017\n",
            "Epoch 58/100\n",
            "14/14 [==============================] - 5s 383ms/step - loss: 3.2162e-04 - val_loss: 0.0031\n",
            "Epoch 59/100\n",
            "14/14 [==============================] - 7s 473ms/step - loss: 3.3918e-04 - val_loss: 8.4579e-04\n",
            "Epoch 60/100\n",
            "14/14 [==============================] - 5s 382ms/step - loss: 3.2225e-04 - val_loss: 7.7166e-04\n",
            "Epoch 61/100\n",
            "14/14 [==============================] - 7s 475ms/step - loss: 2.8033e-04 - val_loss: 8.4368e-04\n",
            "Epoch 62/100\n",
            "14/14 [==============================] - 5s 383ms/step - loss: 2.7258e-04 - val_loss: 0.0025\n",
            "Epoch 63/100\n",
            "14/14 [==============================] - 7s 476ms/step - loss: 2.6833e-04 - val_loss: 8.0225e-04\n",
            "Epoch 64/100\n",
            "14/14 [==============================] - 5s 382ms/step - loss: 2.7601e-04 - val_loss: 0.0013\n",
            "Epoch 65/100\n",
            "14/14 [==============================] - 7s 474ms/step - loss: 2.7111e-04 - val_loss: 0.0014\n",
            "Epoch 66/100\n",
            "14/14 [==============================] - 5s 383ms/step - loss: 2.5425e-04 - val_loss: 0.0011\n",
            "Epoch 67/100\n",
            "14/14 [==============================] - 7s 477ms/step - loss: 2.4740e-04 - val_loss: 0.0021\n",
            "Epoch 68/100\n",
            "14/14 [==============================] - 5s 383ms/step - loss: 2.5303e-04 - val_loss: 0.0013\n",
            "Epoch 69/100\n",
            "14/14 [==============================] - 6s 455ms/step - loss: 2.4516e-04 - val_loss: 7.5641e-04\n",
            "Epoch 70/100\n",
            "14/14 [==============================] - 6s 384ms/step - loss: 2.2942e-04 - val_loss: 8.1001e-04\n",
            "Epoch 71/100\n",
            "14/14 [==============================] - 6s 421ms/step - loss: 2.2886e-04 - val_loss: 8.0702e-04\n",
            "Epoch 72/100\n",
            "14/14 [==============================] - 6s 423ms/step - loss: 2.2811e-04 - val_loss: 0.0014\n",
            "Epoch 73/100\n",
            "14/14 [==============================] - 5s 386ms/step - loss: 2.4831e-04 - val_loss: 0.0022\n",
            "Epoch 74/100\n",
            "14/14 [==============================] - 8s 555ms/step - loss: 2.5011e-04 - val_loss: 0.0015\n",
            "Epoch 75/100\n",
            "14/14 [==============================] - 6s 403ms/step - loss: 2.2921e-04 - val_loss: 0.0011\n",
            "Epoch 76/100\n",
            "14/14 [==============================] - 6s 426ms/step - loss: 2.1752e-04 - val_loss: 8.3415e-04\n",
            "Epoch 77/100\n",
            "14/14 [==============================] - 5s 382ms/step - loss: 2.1372e-04 - val_loss: 0.0010\n",
            "Epoch 78/100\n",
            "14/14 [==============================] - 7s 475ms/step - loss: 2.1858e-04 - val_loss: 0.0012\n",
            "Epoch 79/100\n",
            "14/14 [==============================] - 5s 380ms/step - loss: 2.0106e-04 - val_loss: 0.0012\n",
            "Epoch 80/100\n",
            "14/14 [==============================] - 7s 472ms/step - loss: 2.0135e-04 - val_loss: 9.5096e-04\n",
            "Epoch 81/100\n",
            "14/14 [==============================] - 5s 383ms/step - loss: 1.9806e-04 - val_loss: 7.5026e-04\n",
            "Epoch 82/100\n",
            "14/14 [==============================] - 7s 476ms/step - loss: 2.1140e-04 - val_loss: 0.0010\n",
            "Epoch 83/100\n",
            "14/14 [==============================] - 5s 383ms/step - loss: 1.9625e-04 - val_loss: 0.0013\n",
            "Epoch 84/100\n",
            "14/14 [==============================] - 7s 475ms/step - loss: 1.9360e-04 - val_loss: 0.0015\n",
            "Epoch 85/100\n",
            "14/14 [==============================] - 5s 384ms/step - loss: 2.1640e-04 - val_loss: 0.0024\n",
            "Epoch 86/100\n",
            "14/14 [==============================] - 7s 478ms/step - loss: 2.0559e-04 - val_loss: 0.0013\n",
            "Epoch 87/100\n",
            "14/14 [==============================] - 5s 387ms/step - loss: 1.9628e-04 - val_loss: 0.0013\n",
            "Epoch 88/100\n",
            "14/14 [==============================] - 6s 470ms/step - loss: 1.7890e-04 - val_loss: 0.0011\n",
            "Epoch 89/100\n",
            "14/14 [==============================] - 5s 382ms/step - loss: 1.8251e-04 - val_loss: 0.0013\n",
            "Epoch 90/100\n",
            "14/14 [==============================] - 6s 422ms/step - loss: 1.7349e-04 - val_loss: 9.9084e-04\n",
            "Epoch 91/100\n",
            "14/14 [==============================] - 6s 420ms/step - loss: 1.9045e-04 - val_loss: 0.0013\n",
            "Epoch 92/100\n",
            "14/14 [==============================] - 5s 385ms/step - loss: 1.7923e-04 - val_loss: 7.4174e-04\n",
            "Epoch 93/100\n",
            "14/14 [==============================] - 7s 460ms/step - loss: 1.7230e-04 - val_loss: 7.7757e-04\n",
            "Epoch 94/100\n",
            "14/14 [==============================] - 5s 384ms/step - loss: 1.7134e-04 - val_loss: 9.3051e-04\n",
            "Epoch 95/100\n",
            "14/14 [==============================] - 7s 477ms/step - loss: 1.7079e-04 - val_loss: 6.9296e-04\n",
            "Epoch 96/100\n",
            "14/14 [==============================] - 5s 384ms/step - loss: 1.7037e-04 - val_loss: 0.0015\n",
            "Epoch 97/100\n",
            "14/14 [==============================] - 7s 479ms/step - loss: 1.6773e-04 - val_loss: 8.6450e-04\n",
            "Epoch 98/100\n",
            "14/14 [==============================] - 5s 386ms/step - loss: 1.6153e-04 - val_loss: 7.4334e-04\n",
            "Epoch 99/100\n",
            "14/14 [==============================] - 7s 475ms/step - loss: 1.5793e-04 - val_loss: 8.6523e-04\n",
            "Epoch 100/100\n",
            "14/14 [==============================] - 5s 383ms/step - loss: 1.6572e-04 - val_loss: 0.0014\n"
          ]
        },
        {
          "output_type": "execute_result",
          "data": {
            "text/plain": [
              "<tensorflow.python.keras.callbacks.History at 0x7ff46d57ab80>"
            ]
          },
          "metadata": {},
          "execution_count": 37
        }
      ]
    },
    {
      "cell_type": "markdown",
      "source": [
        "**Model Prediction**"
      ],
      "metadata": {
        "id": "whLoEoHR7rlI"
      }
    },
    {
      "cell_type": "code",
      "source": [
        "train_prediction=model.predict(X_train)\n",
        "test_prediction=model.predict(X_test)"
      ],
      "metadata": {
        "id": "Y7LQZqQH_6oX"
      },
      "execution_count": null,
      "outputs": []
    },
    {
      "cell_type": "code",
      "source": [
        "from math import sqrt\n",
        "from sklearn.metrics import mean_squared_error\n",
        "train_error=sqrt(mean_squared_error(Y_train,train_prediction))\n",
        "test_error=sqrt(mean_squared_error(Y_test,test_prediction))\n",
        "train_error, test_error"
      ],
      "metadata": {
        "colab": {
          "base_uri": "https://localhost:8080/"
        },
        "id": "KEl043hyCYv4",
        "outputId": "10e104d0-49b6-4c66-a029-db7c56a3d487"
      },
      "execution_count": null,
      "outputs": [
        {
          "output_type": "execute_result",
          "data": {
            "text/plain": [
              "(0.2261959855527453, 0.770767976012672)"
            ]
          },
          "metadata": {},
          "execution_count": 55
        }
      ]
    },
    {
      "cell_type": "code",
      "source": [
        "train_prediction=scaler.inverse_transform(train_prediction)\n",
        "test_prediction=scaler.inverse_transform(test_prediction)"
      ],
      "metadata": {
        "id": "YD8g9ERAFDl2"
      },
      "execution_count": null,
      "outputs": []
    },
    {
      "cell_type": "code",
      "source": [
        "steps_back=100\n",
        "train_predictplot=np.empty_like(stock_high)\n",
        "train_predictplot[:,:]=np.nan\n",
        "train_predictplot[steps_back:len(train_prediction)+steps_back,:]=train_prediction\n",
        "\n",
        "\n",
        "test_predictplot=np.empty_like(stock_high)\n",
        "test_predictplot[:,:]=np.nan\n",
        "test_predictplot[len(train_prediction)+(steps_back *2)+1 :len(stock_high)-1, :]=test_prediction"
      ],
      "metadata": {
        "id": "MqBkTdo_HOf8"
      },
      "execution_count": null,
      "outputs": []
    },
    {
      "cell_type": "markdown",
      "source": [
        "**Data Visualization**"
      ],
      "metadata": {
        "id": "0owEvg_979bz"
      }
    },
    {
      "cell_type": "code",
      "source": [
        "plt.plot(scaler.inverse_transform(stock_high))\n",
        "plt.plot(train_predictplot)\n",
        "plt.plot(test_predictplot)\n",
        "\n",
        "plt.legend(labels =['Total data','Trained data','Predicted data'])\n",
        "plt.show()"
      ],
      "metadata": {
        "colab": {
          "base_uri": "https://localhost:8080/",
          "height": 265
        },
        "id": "a7czYAQRIpiA",
        "outputId": "639ba4f5-fb05-4890-ae09-9a3818aa10fe"
      },
      "execution_count": null,
      "outputs": [
        {
          "output_type": "display_data",
          "data": {
            "text/plain": [
              "<Figure size 432x288 with 1 Axes>"
            ],
            "image/png": "[encoded data removed]"
          },
          "metadata": {
            "needs_background": "light"
          }
        }
      ]
    }
  ]
}