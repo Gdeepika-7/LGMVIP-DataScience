{
  "nbformat": 4,
  "nbformat_minor": 0,
  "metadata": {
    "colab": {
      "provenance": [],
      "authorship_tag": "ABX9TyNCpotiXckE2OSL0+3CiQ3o",
      "include_colab_link": true
    },
    "kernelspec": {
      "name": "python3",
      "display_name": "Python 3"
    },
    "language_info": {
      "name": "python"
    }
  },
  "cells": [
    {
      "cell_type": "markdown",
      "metadata": {
        "id": "view-in-github",
        "colab_type": "text"
      },
      "source": [
        "<a href=\"https://colab.research.google.com/github/Gdeepika-7/LGMVIP_DS/blob/main/stock_marketPrediction.ipynb\" target=\"_parent\"><img src=\"https://colab.research.google.com/assets/colab-badge.svg\" alt=\"Open In Colab\"/></a>"
      ]
    },
    {
      "cell_type": "markdown",
      "source": [
        "**Loading the Dataset**"
      ],
      "metadata": {
        "id": "TQJIiV4H5_mY"
      }
    },
    {
      "cell_type": "code",
      "execution_count": null,
      "metadata": {
        "colab": {
          "base_uri": "https://localhost:8080/",
          "height": 423
        },
        "id": "sehHkjXjTNIJ",
        "outputId": "745cb837-e92d-4ac5-ecf0-15f4ae553ce5"
      },
      "outputs": [
        {
          "output_type": "execute_result",
          "data": {
            "text/plain": [
              "            Date    Open    High     Low    Last   Close  \\\n",
              "0     2018-10-08  208.00  222.25  206.85  216.00  215.15   \n",
              "1     2018-10-05  217.00  218.60  205.90  210.25  209.20   \n",
              "2     2018-10-04  223.50  227.80  216.15  217.25  218.20   \n",
              "3     2018-10-03  230.00  237.50  225.75  226.45  227.60   \n",
              "4     2018-10-01  234.55  234.60  221.05  230.30  230.90   \n",
              "...          ...     ...     ...     ...     ...     ...   \n",
              "1230  2013-10-14  160.85  161.45  157.70  159.30  159.45   \n",
              "1231  2013-10-11  161.15  163.45  159.00  159.80  160.05   \n",
              "1232  2013-10-10  156.00  160.80  155.85  160.30  160.15   \n",
              "1233  2013-10-09  155.70  158.20  154.15  155.30  155.55   \n",
              "1234  2013-10-08  157.00  157.80  155.20  155.80  155.80   \n",
              "\n",
              "      Total Trade Quantity  Turnover (Lacs)  \n",
              "0                4642146.0         10062.83  \n",
              "1                3519515.0          7407.06  \n",
              "2                1728786.0          3815.79  \n",
              "3                1708590.0          3960.27  \n",
              "4                1534749.0          3486.05  \n",
              "...                    ...              ...  \n",
              "1230             1281419.0          2039.09  \n",
              "1231             1880046.0          3030.76  \n",
              "1232             3124853.0          4978.80  \n",
              "1233             2049580.0          3204.49  \n",
              "1234             1720413.0          2688.94  \n",
              "\n",
              "[1235 rows x 8 columns]"
            ],
            "text/html": [
              "\n",
              "  <div id=\"df-c8fb068d-9f8f-453c-906a-78224606ad6d\">\n",
              "    <div class=\"colab-df-container\">\n",
              "      <div>\n",
              "<style scoped>\n",
              "    .dataframe tbody tr th:only-of-type {\n",
              "        vertical-align: middle;\n",
              "    }\n",
              "\n",
              "    .dataframe tbody tr th {\n",
              "        vertical-align: top;\n",
              "    }\n",
              "\n",
              "    .dataframe thead th {\n",
              "        text-align: right;\n",
              "    }\n",
              "</style>\n",
              "<table border=\"1\" class=\"dataframe\">\n",
              "  <thead>\n",
              "    <tr style=\"text-align: right;\">\n",
              "      <th></th>\n",
              "      <th>Date</th>\n",
              "      <th>Open</th>\n",
              "      <th>High</th>\n",
              "      <th>Low</th>\n",
              "      <th>Last</th>\n",
              "      <th>Close</th>\n",
              "      <th>Total Trade Quantity</th>\n",
              "      <th>Turnover (Lacs)</th>\n",
              "    </tr>\n",
              "  </thead>\n",
              "  <tbody>\n",
              "    <tr>\n",
              "      <th>0</th>\n",
              "      <td>2018-10-08</td>\n",
              "      <td>208.00</td>\n",
              "      <td>222.25</td>\n",
              "      <td>206.85</td>\n",
              "      <td>216.00</td>\n",
              "      <td>215.15</td>\n",
              "      <td>4642146.0</td>\n",
              "      <td>10062.83</td>\n",
              "    </tr>\n",
              "    <tr>\n",
              "      <th>1</th>\n",
              "      <td>2018-10-05</td>\n",
              "      <td>217.00</td>\n",
              "      <td>218.60</td>\n",
              "      <td>205.90</td>\n",
              "      <td>210.25</td>\n",
              "      <td>209.20</td>\n",
              "      <td>3519515.0</td>\n",
              "      <td>7407.06</td>\n",
              "    </tr>\n",
              "    <tr>\n",
              "      <th>2</th>\n",
              "      <td>2018-10-04</td>\n",
              "      <td>223.50</td>\n",
              "      <td>227.80</td>\n",
              "      <td>216.15</td>\n",
              "      <td>217.25</td>\n",
              "      <td>218.20</td>\n",
              "      <td>1728786.0</td>\n",
              "      <td>3815.79</td>\n",
              "    </tr>\n",
              "    <tr>\n",
              "      <th>3</th>\n",
              "      <td>2018-10-03</td>\n",
              "      <td>230.00</td>\n",
              "      <td>237.50</td>\n",
              "      <td>225.75</td>\n",
              "      <td>226.45</td>\n",
              "      <td>227.60</td>\n",
              "      <td>1708590.0</td>\n",
              "      <td>3960.27</td>\n",
              "    </tr>\n",
              "    <tr>\n",
              "      <th>4</th>\n",
              "      <td>2018-10-01</td>\n",
              "      <td>234.55</td>\n",
              "      <td>234.60</td>\n",
              "      <td>221.05</td>\n",
              "      <td>230.30</td>\n",
              "      <td>230.90</td>\n",
              "      <td>1534749.0</td>\n",
              "      <td>3486.05</td>\n",
              "    </tr>\n",
              "    <tr>\n",
              "      <th>...</th>\n",
              "      <td>...</td>\n",
              "      <td>...</td>\n",
              "      <td>...</td>\n",
              "      <td>...</td>\n",
              "      <td>...</td>\n",
              "      <td>...</td>\n",
              "      <td>...</td>\n",
              "      <td>...</td>\n",
              "    </tr>\n",
              "    <tr>\n",
              "      <th>1230</th>\n",
              "      <td>2013-10-14</td>\n",
              "      <td>160.85</td>\n",
              "      <td>161.45</td>\n",
              "      <td>157.70</td>\n",
              "      <td>159.30</td>\n",
              "      <td>159.45</td>\n",
              "      <td>1281419.0</td>\n",
              "      <td>2039.09</td>\n",
              "    </tr>\n",
              "    <tr>\n",
              "      <th>1231</th>\n",
              "      <td>2013-10-11</td>\n",
              "      <td>161.15</td>\n",
              "      <td>163.45</td>\n",
              "      <td>159.00</td>\n",
              "      <td>159.80</td>\n",
              "      <td>160.05</td>\n",
              "      <td>1880046.0</td>\n",
              "      <td>3030.76</td>\n",
              "    </tr>\n",
              "    <tr>\n",
              "      <th>1232</th>\n",
              "      <td>2013-10-10</td>\n",
              "      <td>156.00</td>\n",
              "      <td>160.80</td>\n",
              "      <td>155.85</td>\n",
              "      <td>160.30</td>\n",
              "      <td>160.15</td>\n",
              "      <td>3124853.0</td>\n",
              "      <td>4978.80</td>\n",
              "    </tr>\n",
              "    <tr>\n",
              "      <th>1233</th>\n",
              "      <td>2013-10-09</td>\n",
              "      <td>155.70</td>\n",
              "      <td>158.20</td>\n",
              "      <td>154.15</td>\n",
              "      <td>155.30</td>\n",
              "      <td>155.55</td>\n",
              "      <td>2049580.0</td>\n",
              "      <td>3204.49</td>\n",
              "    </tr>\n",
              "    <tr>\n",
              "      <th>1234</th>\n",
              "      <td>2013-10-08</td>\n",
              "      <td>157.00</td>\n",
              "      <td>157.80</td>\n",
              "      <td>155.20</td>\n",
              "      <td>155.80</td>\n",
              "      <td>155.80</td>\n",
              "      <td>1720413.0</td>\n",
              "      <td>2688.94</td>\n",
              "    </tr>\n",
              "  </tbody>\n",
              "</table>\n",
              "<p>1235 rows × 8 columns</p>\n",
              "</div>\n",
              "      <button class=\"colab-df-convert\" onclick=\"convertToInteractive('df-c8fb068d-9f8f-453c-906a-78224606ad6d')\"\n",
              "              title=\"Convert this dataframe to an interactive table.\"\n",
              "              style=\"display:none;\">\n",
              "        \n",
              "  <svg xmlns=\"http://www.w3.org/2000/svg\" height=\"24px\"viewBox=\"0 0 24 24\"\n",
              "       width=\"24px\">\n",
              "    <path d=\"M0 0h24v24H0V0z\" fill=\"none\"/>\n",
              "    <path d=\"M18.56 5.44l.94 2.06.94-2.06 2.06-.94-2.06-.94-.94-2.06-.94 2.06-2.06.94zm-11 1L8.5 8.5l.94-2.06 2.06-.94-2.06-.94L8.5 2.5l-.94 2.06-2.06.94zm10 10l.94 2.06.94-2.06 2.06-.94-2.06-.94-.94-2.06-.94 2.06-2.06.94z\"/><path d=\"M17.41 7.96l-1.37-1.37c-.4-.4-.92-.59-1.43-.59-.52 0-1.04.2-1.43.59L10.3 9.45l-7.72 7.72c-.78.78-.78 2.05 0 2.83L4 21.41c.39.39.9.59 1.41.59.51 0 1.02-.2 1.41-.59l7.78-7.78 2.81-2.81c.8-.78.8-2.07 0-2.86zM5.41 20L4 18.59l7.72-7.72 1.47 1.35L5.41 20z\"/>\n",
              "  </svg>\n",
              "      </button>\n",
              "      \n",
              "  <style>\n",
              "    .colab-df-container {\n",
              "      display:flex;\n",
              "      flex-wrap:wrap;\n",
              "      gap: 12px;\n",
              "    }\n",
              "\n",
              "    .colab-df-convert {\n",
              "      background-color: #E8F0FE;\n",
              "      border: none;\n",
              "      border-radius: 50%;\n",
              "      cursor: pointer;\n",
              "      display: none;\n",
              "      fill: #1967D2;\n",
              "      height: 32px;\n",
              "      padding: 0 0 0 0;\n",
              "      width: 32px;\n",
              "    }\n",
              "\n",
              "    .colab-df-convert:hover {\n",
              "      background-color: #E2EBFA;\n",
              "      box-shadow: 0px 1px 2px rgba(60, 64, 67, 0.3), 0px 1px 3px 1px rgba(60, 64, 67, 0.15);\n",
              "      fill: #174EA6;\n",
              "    }\n",
              "\n",
              "    [theme=dark] .colab-df-convert {\n",
              "      background-color: #3B4455;\n",
              "      fill: #D2E3FC;\n",
              "    }\n",
              "\n",
              "    [theme=dark] .colab-df-convert:hover {\n",
              "      background-color: #434B5C;\n",
              "      box-shadow: 0px 1px 3px 1px rgba(0, 0, 0, 0.15);\n",
              "      filter: drop-shadow(0px 1px 2px rgba(0, 0, 0, 0.3));\n",
              "      fill: #FFFFFF;\n",
              "    }\n",
              "  </style>\n",
              "\n",
              "      <script>\n",
              "        const buttonEl =\n",
              "          document.querySelector('#df-c8fb068d-9f8f-453c-906a-78224606ad6d button.colab-df-convert');\n",
              "        buttonEl.style.display =\n",
              "          google.colab.kernel.accessAllowed ? 'block' : 'none';\n",
              "\n",
              "        async function convertToInteractive(key) {\n",
              "          const element = document.querySelector('#df-c8fb068d-9f8f-453c-906a-78224606ad6d');\n",
              "          const dataTable =\n",
              "            await google.colab.kernel.invokeFunction('convertToInteractive',\n",
              "                                                     [key], {});\n",
              "          if (!dataTable) return;\n",
              "\n",
              "          const docLinkHtml = 'Like what you see? Visit the ' +\n",
              "            '<a target=\"_blank\" href=https://colab.research.google.com/notebooks/data_table.ipynb>data table notebook</a>'\n",
              "            + ' to learn more about interactive tables.';\n",
              "          element.innerHTML = '';\n",
              "          dataTable['output_type'] = 'display_data';\n",
              "          await google.colab.output.renderOutput(dataTable, element);\n",
              "          const docLink = document.createElement('div');\n",
              "          docLink.innerHTML = docLinkHtml;\n",
              "          element.appendChild(docLink);\n",
              "        }\n",
              "      </script>\n",
              "    </div>\n",
              "  </div>\n",
              "  "
            ]
          },
          "metadata": {},
          "execution_count": 3
        }
      ],
      "source": [
        "import numpy as np\n",
        "import pandas as pd\n",
        "stock=pd.read_csv('/content/NSE-TATAGLOBAL11.csv')\n",
        "stock"
      ]
    },
    {
      "cell_type": "markdown",
      "source": [
        "**Information about the Dataset**"
      ],
      "metadata": {
        "id": "SQElXl5w6dyW"
      }
    },
    {
      "cell_type": "code",
      "source": [
        "stock.shape\n",
        "stock.info()\n",
        "stock.dtypes"
      ],
      "metadata": {
        "colab": {
          "base_uri": "https://localhost:8080/"
        },
        "id": "iHDdC9MUWKYS",
        "outputId": "5f5706c1-b89b-4c8f-aea8-1143981cd9a4"
      },
      "execution_count": null,
      "outputs": [
        {
          "output_type": "stream",
          "name": "stdout",
          "text": [
            "<class 'pandas.core.frame.DataFrame'>\n",
            "RangeIndex: 1235 entries, 0 to 1234\n",
            "Data columns (total 8 columns):\n",
            " #   Column                Non-Null Count  Dtype  \n",
            "---  ------                --------------  -----  \n",
            " 0   Date                  1235 non-null   object \n",
            " 1   Open                  1235 non-null   float64\n",
            " 2   High                  1235 non-null   float64\n",
            " 3   Low                   1235 non-null   float64\n",
            " 4   Last                  1235 non-null   float64\n",
            " 5   Close                 1235 non-null   float64\n",
            " 6   Total Trade Quantity  1235 non-null   float64\n",
            " 7   Turnover (Lacs)       1235 non-null   float64\n",
            "dtypes: float64(7), object(1)\n",
            "memory usage: 77.3+ KB\n"
          ]
        },
        {
          "output_type": "execute_result",
          "data": {
            "text/plain": [
              "Date                     object\n",
              "Open                    float64\n",
              "High                    float64\n",
              "Low                     float64\n",
              "Last                    float64\n",
              "Close                   float64\n",
              "Total Trade Quantity    float64\n",
              "Turnover (Lacs)         float64\n",
              "dtype: object"
            ]
          },
          "metadata": {},
          "execution_count": 4
        }
      ]
    },
    {
      "cell_type": "markdown",
      "source": [
        "**Checking for the null values**"
      ],
      "metadata": {
        "id": "TncpqW2g6sU6"
      }
    },
    {
      "cell_type": "code",
      "source": [
        "missing_value_count=stock.isnull().sum()\n",
        "total_cells=np.product(stock.shape)\n",
        "total_missing=missing_value_count.sum()\n",
        "percentage_missing=(total_missing/total_cells)*100\n",
        "print(percentage_missing)"
      ],
      "metadata": {
        "colab": {
          "base_uri": "https://localhost:8080/"
        },
        "id": "_9GZYrpCXs2I",
        "outputId": "ee1500ef-1c4c-4949-bbb8-20eb765a3dbd"
      },
      "execution_count": null,
      "outputs": [
        {
          "output_type": "stream",
          "name": "stdout",
          "text": [
            "0.0\n"
          ]
        }
      ]
    },
    {
      "cell_type": "code",
      "source": [
        "stock=stock[::-1]\n",
        "stock"
      ],
      "metadata": {
        "colab": {
          "base_uri": "https://localhost:8080/",
          "height": 423
        },
        "id": "a_a9nKhTZi6l",
        "outputId": "1cb9c18d-e48f-4c01-cf22-45d064c7b0a9"
      },
      "execution_count": null,
      "outputs": [
        {
          "output_type": "execute_result",
          "data": {
            "text/plain": [
              "            Date    Open    High     Low    Last   Close  \\\n",
              "1234  2013-10-08  157.00  157.80  155.20  155.80  155.80   \n",
              "1233  2013-10-09  155.70  158.20  154.15  155.30  155.55   \n",
              "1232  2013-10-10  156.00  160.80  155.85  160.30  160.15   \n",
              "1231  2013-10-11  161.15  163.45  159.00  159.80  160.05   \n",
              "1230  2013-10-14  160.85  161.45  157.70  159.30  159.45   \n",
              "...          ...     ...     ...     ...     ...     ...   \n",
              "4     2018-10-01  234.55  234.60  221.05  230.30  230.90   \n",
              "3     2018-10-03  230.00  237.50  225.75  226.45  227.60   \n",
              "2     2018-10-04  223.50  227.80  216.15  217.25  218.20   \n",
              "1     2018-10-05  217.00  218.60  205.90  210.25  209.20   \n",
              "0     2018-10-08  208.00  222.25  206.85  216.00  215.15   \n",
              "\n",
              "      Total Trade Quantity  Turnover (Lacs)  \n",
              "1234             1720413.0          2688.94  \n",
              "1233             2049580.0          3204.49  \n",
              "1232             3124853.0          4978.80  \n",
              "1231             1880046.0          3030.76  \n",
              "1230             1281419.0          2039.09  \n",
              "...                    ...              ...  \n",
              "4                1534749.0          3486.05  \n",
              "3                1708590.0          3960.27  \n",
              "2                1728786.0          3815.79  \n",
              "1                3519515.0          7407.06  \n",
              "0                4642146.0         10062.83  \n",
              "\n",
              "[1235 rows x 8 columns]"
            ],
            "text/html": [
              "\n",
              "  <div id=\"df-c25cf7f8-c997-4f53-89dc-3ff23ceb6a50\">\n",
              "    <div class=\"colab-df-container\">\n",
              "      <div>\n",
              "<style scoped>\n",
              "    .dataframe tbody tr th:only-of-type {\n",
              "        vertical-align: middle;\n",
              "    }\n",
              "\n",
              "    .dataframe tbody tr th {\n",
              "        vertical-align: top;\n",
              "    }\n",
              "\n",
              "    .dataframe thead th {\n",
              "        text-align: right;\n",
              "    }\n",
              "</style>\n",
              "<table border=\"1\" class=\"dataframe\">\n",
              "  <thead>\n",
              "    <tr style=\"text-align: right;\">\n",
              "      <th></th>\n",
              "      <th>Date</th>\n",
              "      <th>Open</th>\n",
              "      <th>High</th>\n",
              "      <th>Low</th>\n",
              "      <th>Last</th>\n",
              "      <th>Close</th>\n",
              "      <th>Total Trade Quantity</th>\n",
              "      <th>Turnover (Lacs)</th>\n",
              "    </tr>\n",
              "  </thead>\n",
              "  <tbody>\n",
              "    <tr>\n",
              "      <th>1234</th>\n",
              "      <td>2013-10-08</td>\n",
              "      <td>157.00</td>\n",
              "      <td>157.80</td>\n",
              "      <td>155.20</td>\n",
              "      <td>155.80</td>\n",
              "      <td>155.80</td>\n",
              "      <td>1720413.0</td>\n",
              "      <td>2688.94</td>\n",
              "    </tr>\n",
              "    <tr>\n",
              "      <th>1233</th>\n",
              "      <td>2013-10-09</td>\n",
              "      <td>155.70</td>\n",
              "      <td>158.20</td>\n",
              "      <td>154.15</td>\n",
              "      <td>155.30</td>\n",
              "      <td>155.55</td>\n",
              "      <td>2049580.0</td>\n",
              "      <td>3204.49</td>\n",
              "    </tr>\n",
              "    <tr>\n",
              "      <th>1232</th>\n",
              "      <td>2013-10-10</td>\n",
              "      <td>156.00</td>\n",
              "      <td>160.80</td>\n",
              "      <td>155.85</td>\n",
              "      <td>160.30</td>\n",
              "      <td>160.15</td>\n",
              "      <td>3124853.0</td>\n",
              "      <td>4978.80</td>\n",
              "    </tr>\n",
              "    <tr>\n",
              "      <th>1231</th>\n",
              "      <td>2013-10-11</td>\n",
              "      <td>161.15</td>\n",
              "      <td>163.45</td>\n",
              "      <td>159.00</td>\n",
              "      <td>159.80</td>\n",
              "      <td>160.05</td>\n",
              "      <td>1880046.0</td>\n",
              "      <td>3030.76</td>\n",
              "    </tr>\n",
              "    <tr>\n",
              "      <th>1230</th>\n",
              "      <td>2013-10-14</td>\n",
              "      <td>160.85</td>\n",
              "      <td>161.45</td>\n",
              "      <td>157.70</td>\n",
              "      <td>159.30</td>\n",
              "      <td>159.45</td>\n",
              "      <td>1281419.0</td>\n",
              "      <td>2039.09</td>\n",
              "    </tr>\n",
              "    <tr>\n",
              "      <th>...</th>\n",
              "      <td>...</td>\n",
              "      <td>...</td>\n",
              "      <td>...</td>\n",
              "      <td>...</td>\n",
              "      <td>...</td>\n",
              "      <td>...</td>\n",
              "      <td>...</td>\n",
              "      <td>...</td>\n",
              "    </tr>\n",
              "    <tr>\n",
              "      <th>4</th>\n",
              "      <td>2018-10-01</td>\n",
              "      <td>234.55</td>\n",
              "      <td>234.60</td>\n",
              "      <td>221.05</td>\n",
              "      <td>230.30</td>\n",
              "      <td>230.90</td>\n",
              "      <td>1534749.0</td>\n",
              "      <td>3486.05</td>\n",
              "    </tr>\n",
              "    <tr>\n",
              "      <th>3</th>\n",
              "      <td>2018-10-03</td>\n",
              "      <td>230.00</td>\n",
              "      <td>237.50</td>\n",
              "      <td>225.75</td>\n",
              "      <td>226.45</td>\n",
              "      <td>227.60</td>\n",
              "      <td>1708590.0</td>\n",
              "      <td>3960.27</td>\n",
              "    </tr>\n",
              "    <tr>\n",
              "      <th>2</th>\n",
              "      <td>2018-10-04</td>\n",
              "      <td>223.50</td>\n",
              "      <td>227.80</td>\n",
              "      <td>216.15</td>\n",
              "      <td>217.25</td>\n",
              "      <td>218.20</td>\n",
              "      <td>1728786.0</td>\n",
              "      <td>3815.79</td>\n",
              "    </tr>\n",
              "    <tr>\n",
              "      <th>1</th>\n",
              "      <td>2018-10-05</td>\n",
              "      <td>217.00</td>\n",
              "      <td>218.60</td>\n",
              "      <td>205.90</td>\n",
              "      <td>210.25</td>\n",
              "      <td>209.20</td>\n",
              "      <td>3519515.0</td>\n",
              "      <td>7407.06</td>\n",
              "    </tr>\n",
              "    <tr>\n",
              "      <th>0</th>\n",
              "      <td>2018-10-08</td>\n",
              "      <td>208.00</td>\n",
              "      <td>222.25</td>\n",
              "      <td>206.85</td>\n",
              "      <td>216.00</td>\n",
              "      <td>215.15</td>\n",
              "      <td>4642146.0</td>\n",
              "      <td>10062.83</td>\n",
              "    </tr>\n",
              "  </tbody>\n",
              "</table>\n",
              "<p>1235 rows × 8 columns</p>\n",
              "</div>\n",
              "      <button class=\"colab-df-convert\" onclick=\"convertToInteractive('df-c25cf7f8-c997-4f53-89dc-3ff23ceb6a50')\"\n",
              "              title=\"Convert this dataframe to an interactive table.\"\n",
              "              style=\"display:none;\">\n",
              "        \n",
              "  <svg xmlns=\"http://www.w3.org/2000/svg\" height=\"24px\"viewBox=\"0 0 24 24\"\n",
              "       width=\"24px\">\n",
              "    <path d=\"M0 0h24v24H0V0z\" fill=\"none\"/>\n",
              "    <path d=\"M18.56 5.44l.94 2.06.94-2.06 2.06-.94-2.06-.94-.94-2.06-.94 2.06-2.06.94zm-11 1L8.5 8.5l.94-2.06 2.06-.94-2.06-.94L8.5 2.5l-.94 2.06-2.06.94zm10 10l.94 2.06.94-2.06 2.06-.94-2.06-.94-.94-2.06-.94 2.06-2.06.94z\"/><path d=\"M17.41 7.96l-1.37-1.37c-.4-.4-.92-.59-1.43-.59-.52 0-1.04.2-1.43.59L10.3 9.45l-7.72 7.72c-.78.78-.78 2.05 0 2.83L4 21.41c.39.39.9.59 1.41.59.51 0 1.02-.2 1.41-.59l7.78-7.78 2.81-2.81c.8-.78.8-2.07 0-2.86zM5.41 20L4 18.59l7.72-7.72 1.47 1.35L5.41 20z\"/>\n",
              "  </svg>\n",
              "      </button>\n",
              "      \n",
              "  <style>\n",
              "    .colab-df-container {\n",
              "      display:flex;\n",
              "      flex-wrap:wrap;\n",
              "      gap: 12px;\n",
              "    }\n",
              "\n",
              "    .colab-df-convert {\n",
              "      background-color: #E8F0FE;\n",
              "      border: none;\n",
              "      border-radius: 50%;\n",
              "      cursor: pointer;\n",
              "      display: none;\n",
              "      fill: #1967D2;\n",
              "      height: 32px;\n",
              "      padding: 0 0 0 0;\n",
              "      width: 32px;\n",
              "    }\n",
              "\n",
              "    .colab-df-convert:hover {\n",
              "      background-color: #E2EBFA;\n",
              "      box-shadow: 0px 1px 2px rgba(60, 64, 67, 0.3), 0px 1px 3px 1px rgba(60, 64, 67, 0.15);\n",
              "      fill: #174EA6;\n",
              "    }\n",
              "\n",
              "    [theme=dark] .colab-df-convert {\n",
              "      background-color: #3B4455;\n",
              "      fill: #D2E3FC;\n",
              "    }\n",
              "\n",
              "    [theme=dark] .colab-df-convert:hover {\n",
              "      background-color: #434B5C;\n",
              "      box-shadow: 0px 1px 3px 1px rgba(0, 0, 0, 0.15);\n",
              "      filter: drop-shadow(0px 1px 2px rgba(0, 0, 0, 0.3));\n",
              "      fill: #FFFFFF;\n",
              "    }\n",
              "  </style>\n",
              "\n",
              "      <script>\n",
              "        const buttonEl =\n",
              "          document.querySelector('#df-c25cf7f8-c997-4f53-89dc-3ff23ceb6a50 button.colab-df-convert');\n",
              "        buttonEl.style.display =\n",
              "          google.colab.kernel.accessAllowed ? 'block' : 'none';\n",
              "\n",
              "        async function convertToInteractive(key) {\n",
              "          const element = document.querySelector('#df-c25cf7f8-c997-4f53-89dc-3ff23ceb6a50');\n",
              "          const dataTable =\n",
              "            await google.colab.kernel.invokeFunction('convertToInteractive',\n",
              "                                                     [key], {});\n",
              "          if (!dataTable) return;\n",
              "\n",
              "          const docLinkHtml = 'Like what you see? Visit the ' +\n",
              "            '<a target=\"_blank\" href=https://colab.research.google.com/notebooks/data_table.ipynb>data table notebook</a>'\n",
              "            + ' to learn more about interactive tables.';\n",
              "          element.innerHTML = '';\n",
              "          dataTable['output_type'] = 'display_data';\n",
              "          await google.colab.output.renderOutput(dataTable, element);\n",
              "          const docLink = document.createElement('div');\n",
              "          docLink.innerHTML = docLinkHtml;\n",
              "          element.appendChild(docLink);\n",
              "        }\n",
              "      </script>\n",
              "    </div>\n",
              "  </div>\n",
              "  "
            ]
          },
          "metadata": {},
          "execution_count": 6
        }
      ]
    },
    {
      "cell_type": "code",
      "source": [
        "stock.describe()"
      ],
      "metadata": {
        "colab": {
          "base_uri": "https://localhost:8080/",
          "height": 344
        },
        "id": "Ml7IRcN-tSqy",
        "outputId": "b2b882bf-64db-46a7-f11f-a7e6c7e3a543"
      },
      "execution_count": null,
      "outputs": [
        {
          "output_type": "execute_result",
          "data": {
            "text/plain": [
              "              Open         High          Low         Last        Close  \\\n",
              "count  1235.000000  1235.000000  1235.000000  1235.000000  1235.000000   \n",
              "mean    168.954858   171.429069   166.402308   168.736356   168.731053   \n",
              "std      51.499145    52.436761    50.542919    51.587384    51.544928   \n",
              "min     103.000000   104.600000   100.000000   102.600000   102.650000   \n",
              "25%     137.550000   138.925000   135.250000   137.175000   137.225000   \n",
              "50%     151.500000   153.250000   149.500000   151.200000   151.100000   \n",
              "75%     169.000000   172.325000   166.700000   169.100000   169.500000   \n",
              "max     327.700000   328.750000   321.650000   325.950000   325.750000   \n",
              "\n",
              "       Total Trade Quantity  Turnover (Lacs)  \n",
              "count          1.235000e+03      1235.000000  \n",
              "mean           2.604151e+06      4843.166502  \n",
              "std            2.277028e+06      5348.919832  \n",
              "min            1.001800e+05       128.040000  \n",
              "25%            1.284482e+06      1801.035000  \n",
              "50%            1.964885e+06      3068.510000  \n",
              "75%            3.095788e+06      5852.600000  \n",
              "max            2.919102e+07     55755.080000  "
            ],
            "text/html": [
              "\n",
              "  <div id=\"df-d887dd2c-f0e2-44fb-a4ee-c479af36147a\">\n",
              "    <div class=\"colab-df-container\">\n",
              "      <div>\n",
              "<style scoped>\n",
              "    .dataframe tbody tr th:only-of-type {\n",
              "        vertical-align: middle;\n",
              "    }\n",
              "\n",
              "    .dataframe tbody tr th {\n",
              "        vertical-align: top;\n",
              "    }\n",
              "\n",
              "    .dataframe thead th {\n",
              "        text-align: right;\n",
              "    }\n",
              "</style>\n",
              "<table border=\"1\" class=\"dataframe\">\n",
              "  <thead>\n",
              "    <tr style=\"text-align: right;\">\n",
              "      <th></th>\n",
              "      <th>Open</th>\n",
              "      <th>High</th>\n",
              "      <th>Low</th>\n",
              "      <th>Last</th>\n",
              "      <th>Close</th>\n",
              "      <th>Total Trade Quantity</th>\n",
              "      <th>Turnover (Lacs)</th>\n",
              "    </tr>\n",
              "  </thead>\n",
              "  <tbody>\n",
              "    <tr>\n",
              "      <th>count</th>\n",
              "      <td>1235.000000</td>\n",
              "      <td>1235.000000</td>\n",
              "      <td>1235.000000</td>\n",
              "      <td>1235.000000</td>\n",
              "      <td>1235.000000</td>\n",
              "      <td>1.235000e+03</td>\n",
              "      <td>1235.000000</td>\n",
              "    </tr>\n",
              "    <tr>\n",
              "      <th>mean</th>\n",
              "      <td>168.954858</td>\n",
              "      <td>171.429069</td>\n",
              "      <td>166.402308</td>\n",
              "      <td>168.736356</td>\n",
              "      <td>168.731053</td>\n",
              "      <td>2.604151e+06</td>\n",
              "      <td>4843.166502</td>\n",
              "    </tr>\n",
              "    <tr>\n",
              "      <th>std</th>\n",
              "      <td>51.499145</td>\n",
              "      <td>52.436761</td>\n",
              "      <td>50.542919</td>\n",
              "      <td>51.587384</td>\n",
              "      <td>51.544928</td>\n",
              "      <td>2.277028e+06</td>\n",
              "      <td>5348.919832</td>\n",
              "    </tr>\n",
              "    <tr>\n",
              "      <th>min</th>\n",
              "      <td>103.000000</td>\n",
              "      <td>104.600000</td>\n",
              "      <td>100.000000</td>\n",
              "      <td>102.600000</td>\n",
              "      <td>102.650000</td>\n",
              "      <td>1.001800e+05</td>\n",
              "      <td>128.040000</td>\n",
              "    </tr>\n",
              "    <tr>\n",
              "      <th>25%</th>\n",
              "      <td>137.550000</td>\n",
              "      <td>138.925000</td>\n",
              "      <td>135.250000</td>\n",
              "      <td>137.175000</td>\n",
              "      <td>137.225000</td>\n",
              "      <td>1.284482e+06</td>\n",
              "      <td>1801.035000</td>\n",
              "    </tr>\n",
              "    <tr>\n",
              "      <th>50%</th>\n",
              "      <td>151.500000</td>\n",
              "      <td>153.250000</td>\n",
              "      <td>149.500000</td>\n",
              "      <td>151.200000</td>\n",
              "      <td>151.100000</td>\n",
              "      <td>1.964885e+06</td>\n",
              "      <td>3068.510000</td>\n",
              "    </tr>\n",
              "    <tr>\n",
              "      <th>75%</th>\n",
              "      <td>169.000000</td>\n",
              "      <td>172.325000</td>\n",
              "      <td>166.700000</td>\n",
              "      <td>169.100000</td>\n",
              "      <td>169.500000</td>\n",
              "      <td>3.095788e+06</td>\n",
              "      <td>5852.600000</td>\n",
              "    </tr>\n",
              "    <tr>\n",
              "      <th>max</th>\n",
              "      <td>327.700000</td>\n",
              "      <td>328.750000</td>\n",
              "      <td>321.650000</td>\n",
              "      <td>325.950000</td>\n",
              "      <td>325.750000</td>\n",
              "      <td>2.919102e+07</td>\n",
              "      <td>55755.080000</td>\n",
              "    </tr>\n",
              "  </tbody>\n",
              "</table>\n",
              "</div>\n",
              "      <button class=\"colab-df-convert\" onclick=\"convertToInteractive('df-d887dd2c-f0e2-44fb-a4ee-c479af36147a')\"\n",
              "              title=\"Convert this dataframe to an interactive table.\"\n",
              "              style=\"display:none;\">\n",
              "        \n",
              "  <svg xmlns=\"http://www.w3.org/2000/svg\" height=\"24px\"viewBox=\"0 0 24 24\"\n",
              "       width=\"24px\">\n",
              "    <path d=\"M0 0h24v24H0V0z\" fill=\"none\"/>\n",
              "    <path d=\"M18.56 5.44l.94 2.06.94-2.06 2.06-.94-2.06-.94-.94-2.06-.94 2.06-2.06.94zm-11 1L8.5 8.5l.94-2.06 2.06-.94-2.06-.94L8.5 2.5l-.94 2.06-2.06.94zm10 10l.94 2.06.94-2.06 2.06-.94-2.06-.94-.94-2.06-.94 2.06-2.06.94z\"/><path d=\"M17.41 7.96l-1.37-1.37c-.4-.4-.92-.59-1.43-.59-.52 0-1.04.2-1.43.59L10.3 9.45l-7.72 7.72c-.78.78-.78 2.05 0 2.83L4 21.41c.39.39.9.59 1.41.59.51 0 1.02-.2 1.41-.59l7.78-7.78 2.81-2.81c.8-.78.8-2.07 0-2.86zM5.41 20L4 18.59l7.72-7.72 1.47 1.35L5.41 20z\"/>\n",
              "  </svg>\n",
              "      </button>\n",
              "      \n",
              "  <style>\n",
              "    .colab-df-container {\n",
              "      display:flex;\n",
              "      flex-wrap:wrap;\n",
              "      gap: 12px;\n",
              "    }\n",
              "\n",
              "    .colab-df-convert {\n",
              "      background-color: #E8F0FE;\n",
              "      border: none;\n",
              "      border-radius: 50%;\n",
              "      cursor: pointer;\n",
              "      display: none;\n",
              "      fill: #1967D2;\n",
              "      height: 32px;\n",
              "      padding: 0 0 0 0;\n",
              "      width: 32px;\n",
              "    }\n",
              "\n",
              "    .colab-df-convert:hover {\n",
              "      background-color: #E2EBFA;\n",
              "      box-shadow: 0px 1px 2px rgba(60, 64, 67, 0.3), 0px 1px 3px 1px rgba(60, 64, 67, 0.15);\n",
              "      fill: #174EA6;\n",
              "    }\n",
              "\n",
              "    [theme=dark] .colab-df-convert {\n",
              "      background-color: #3B4455;\n",
              "      fill: #D2E3FC;\n",
              "    }\n",
              "\n",
              "    [theme=dark] .colab-df-convert:hover {\n",
              "      background-color: #434B5C;\n",
              "      box-shadow: 0px 1px 3px 1px rgba(0, 0, 0, 0.15);\n",
              "      filter: drop-shadow(0px 1px 2px rgba(0, 0, 0, 0.3));\n",
              "      fill: #FFFFFF;\n",
              "    }\n",
              "  </style>\n",
              "\n",
              "      <script>\n",
              "        const buttonEl =\n",
              "          document.querySelector('#df-d887dd2c-f0e2-44fb-a4ee-c479af36147a button.colab-df-convert');\n",
              "        buttonEl.style.display =\n",
              "          google.colab.kernel.accessAllowed ? 'block' : 'none';\n",
              "\n",
              "        async function convertToInteractive(key) {\n",
              "          const element = document.querySelector('#df-d887dd2c-f0e2-44fb-a4ee-c479af36147a');\n",
              "          const dataTable =\n",
              "            await google.colab.kernel.invokeFunction('convertToInteractive',\n",
              "                                                     [key], {});\n",
              "          if (!dataTable) return;\n",
              "\n",
              "          const docLinkHtml = 'Like what you see? Visit the ' +\n",
              "            '<a target=\"_blank\" href=https://colab.research.google.com/notebooks/data_table.ipynb>data table notebook</a>'\n",
              "            + ' to learn more about interactive tables.';\n",
              "          element.innerHTML = '';\n",
              "          dataTable['output_type'] = 'display_data';\n",
              "          await google.colab.output.renderOutput(dataTable, element);\n",
              "          const docLink = document.createElement('div');\n",
              "          docLink.innerHTML = docLinkHtml;\n",
              "          element.appendChild(docLink);\n",
              "        }\n",
              "      </script>\n",
              "    </div>\n",
              "  </div>\n",
              "  "
            ]
          },
          "metadata": {},
          "execution_count": 7
        }
      ]
    },
    {
      "cell_type": "markdown",
      "source": [
        "**Heatmap Generation**"
      ],
      "metadata": {
        "id": "EzHJTdZK698a"
      }
    },
    {
      "cell_type": "code",
      "source": [
        "import matplotlib.pyplot as plt\n",
        "import seaborn as sns\n",
        "sns.heatmap(stock.corr(), annot=True)\n",
        "plt.show()"
      ],
      "metadata": {
        "colab": {
          "base_uri": "https://localhost:8080/",
          "height": 359
        },
        "id": "IHNYoeojvfVb",
        "outputId": "806b10c3-82da-4b9c-d7ac-0cb22f1671fb"
      },
      "execution_count": null,
      "outputs": [
        {
          "output_type": "display_data",
          "data": {
            "text/plain": [
              "<Figure size 432x288 with 2 Axes>"
            ],
            "image/png": "[encoded data removed]"
          },
          "metadata": {
            "needs_background": "light"
          }
        }
      ]
    },
    {
      "cell_type": "code",
      "source": [
        "stock_high=stock.reset_index()['High']\n",
        "stock_high"
      ],
      "metadata": {
        "colab": {
          "base_uri": "https://localhost:8080/"
        },
        "id": "X0KYqleKwTxz",
        "outputId": "8c381d7e-5e09-4512-f071-25ed8179b1ac"
      },
      "execution_count": null,
      "outputs": [
        {
          "output_type": "execute_result",
          "data": {
            "text/plain": [
              "0       157.80\n",
              "1       158.20\n",
              "2       160.80\n",
              "3       163.45\n",
              "4       161.45\n",
              "         ...  \n",
              "1230    234.60\n",
              "1231    237.50\n",
              "1232    227.80\n",
              "1233    218.60\n",
              "1234    222.25\n",
              "Name: High, Length: 1235, dtype: float64"
            ]
          },
          "metadata": {},
          "execution_count": 9
        }
      ]
    },
    {
      "cell_type": "code",
      "source": [
        "plt.plot(stock_high)\n",
        "plt.show()"
      ],
      "metadata": {
        "colab": {
          "base_uri": "https://localhost:8080/",
          "height": 265
        },
        "id": "wyr8KBEkxK9P",
        "outputId": "5367b4ac-3a2a-49c4-f7f0-0704902005ab"
      },
      "execution_count": null,
      "outputs": [
        {
          "output_type": "display_data",
          "data": {
            "text/plain": [
              "<Figure size 432x288 with 1 Axes>"
            ],
            "image/png": "[encoded data removed]"
          },
          "metadata": {
            "needs_background": "light"
          }
        }
      ]
    },
    {
      "cell_type": "markdown",
      "source": [
        "**Data Preprocessing**"
      ],
      "metadata": {
        "id": "HRIOU_p47K5b"
      }
    },
    {
      "cell_type": "code",
      "source": [
        "from sklearn.preprocessing import MinMaxScaler\n",
        "scaler=MinMaxScaler()\n",
        "stock_high=scaler.fit_transform(stock_high.values.reshape(-1,1))\n",
        "stock_high"
      ],
      "metadata": {
        "colab": {
          "base_uri": "https://localhost:8080/"
        },
        "id": "sRAs_i4CyJAu",
        "outputId": "84c7718c-cfd1-48ef-a1d9-c787905c40b8"
      },
      "execution_count": null,
      "outputs": [
        {
          "output_type": "execute_result",
          "data": {
            "text/plain": [
              "array([[0.23734107],\n",
              "       [0.23912559],\n",
              "       [0.25072496],\n",
              "       ...,\n",
              "       [0.54963194],\n",
              "       [0.508588  ],\n",
              "       [0.52487174]])"
            ]
          },
          "metadata": {},
          "execution_count": 11
        }
      ]
    },
    {
      "cell_type": "markdown",
      "source": [
        "**Splitting the Training and Testing Data**"
      ],
      "metadata": {
        "id": "WM0giE8z7VzE"
      }
    },
    {
      "cell_type": "code",
      "source": [
        "train_size=int(len(stock_high)*0.8)\n",
        "test_size=len(stock_high)-train_size\n",
        "train_size,test_size"
      ],
      "metadata": {
        "colab": {
          "base_uri": "https://localhost:8080/"
        },
        "id": "EW_NzjhUzIT0",
        "outputId": "8e1b062a-33d5-4fcd-f1e2-f3c5e0481e33"
      },
      "execution_count": null,
      "outputs": [
        {
          "output_type": "execute_result",
          "data": {
            "text/plain": [
              "(988, 247)"
            ]
          },
          "metadata": {},
          "execution_count": 12
        }
      ]
    },
    {
      "cell_type": "code",
      "source": [
        "train_data,test_data=stock_high[:train_size],stock_high[train_size::1]\n",
        "train_data.shape"
      ],
      "metadata": {
        "colab": {
          "base_uri": "https://localhost:8080/"
        },
        "id": "KZZErMcY05XU",
        "outputId": "9c9a4470-3b94-45d9-c712-26e36776bf51"
      },
      "execution_count": null,
      "outputs": [
        {
          "output_type": "execute_result",
          "data": {
            "text/plain": [
              "(988, 1)"
            ]
          },
          "metadata": {},
          "execution_count": 13
        }
      ]
    },
    {
      "cell_type": "code",
      "source": [
        "# Here time step=100 indicates that we are looking at previous 100 values for predicting 101th value\n",
        "def create_data(data,time_step):\n",
        "  X_data,Y_data=[],[]\n",
        "  for i in range(len(data)-time_step-1):\n",
        "    X_data.append(data[i:i+time_step,0])\n",
        "    Y_data.append(data[i+time_step,0])\n",
        "  return np.array(X_data),np.array(Y_data)\n",
        "\n"
      ],
      "metadata": {
        "id": "n5c3dFMB1gLu"
      },
      "execution_count": null,
      "outputs": []
    },
    {
      "cell_type": "code",
      "source": [
        "time_step=100\n",
        "X_train,Y_train=create_data(train_data,time_step)\n",
        "X_test,Y_test=create_data(test_data,time_step)"
      ],
      "metadata": {
        "id": "gxj5mll037Dl"
      },
      "execution_count": null,
      "outputs": []
    },
    {
      "cell_type": "code",
      "source": [
        "# Make the data in to 3D data because, it is an LSTM requirement\n",
        "X_train=X_train.reshape(X_train.shape[0],X_train.shape[1],1)\n",
        "X_test=X_test.reshape(X_test.shape[0],X_test.shape[1],1)\n",
        "X_train.shape,Y_train.shape"
      ],
      "metadata": {
        "colab": {
          "base_uri": "https://localhost:8080/"
        },
        "id": "YF0a0F6f4SLe",
        "outputId": "15bf94bd-eddc-4224-db59-2a8f0f2c9a00"
      },
      "execution_count": null,
      "outputs": [
        {
          "output_type": "execute_result",
          "data": {
            "text/plain": [
              "((887, 100, 1), (887,))"
            ]
          },
          "metadata": {},
          "execution_count": 16
        }
      ]
    },
    {
      "cell_type": "markdown",
      "source": [
        "**LSTM Model Creation**"
      ],
      "metadata": {
        "id": "TJhsEI0m7fxB"
      }
    },
    {
      "cell_type": "code",
      "source": [
        "import tensorflow as tf\n",
        "from tensorflow.python.keras.models import Sequential\n",
        "from tensorflow.python.keras.layers import Dense,LSTM\n",
        "model=Sequential()\n",
        "model.add(LSTM(50, return_sequences = True,input_shape=(100,1)))\n",
        "model.add(LSTM(50,return_sequences= True))\n",
        "model.add(LSTM(50))\n",
        "model.add(Dense(1))\n",
        "model.compile(loss='mean_squared_error', optimizer='adam')\n",
        "model.summary()"
      ],
      "metadata": {
        "colab": {
          "base_uri": "https://localhost:8080/"
        },
        "id": "OsvxVp2L6Ewp",
        "outputId": "a5155782-558c-4513-b532-d3b615533cee"
      },
      "execution_count": null,
      "outputs": [
        {
          "output_type": "stream",
          "name": "stdout",
          "text": [
            "Model: \"sequential\"\n",
            "_________________________________________________________________\n",
            "Layer (type)                 Output Shape              Param #   \n",
            "=================================================================\n",
            "lstm (LSTM)                  (None, 100, 50)           10400     \n",
            "_________________________________________________________________\n",
            "lstm_1 (LSTM)                (None, 100, 50)           20200     \n",
            "_________________________________________________________________\n",
            "lstm_2 (LSTM)                (None, 50)                20200     \n",
            "_________________________________________________________________\n",
            "dense (Dense)                (None, 1)                 51        \n",
            "=================================================================\n",
            "Total params: 50,851\n",
            "Trainable params: 50,851\n",
            "Non-trainable params: 0\n",
            "_________________________________________________________________\n"
          ]
        }
      ]
    },
    {
      "cell_type": "code",
      "source": [
        "model.fit(X_train, Y_train, validation_data= (X_test, Y_test),epochs=100,batch_size=64,verbose=True)"
      ],
      "metadata": {
        "colab": {
          "base_uri": "https://localhost:8080/"
        },
        "id": "XVhTwGHa9D1c",
        "outputId": "f7d5a953-5cc6-4a8e-f0b5-c641708b443b"
      },
      "execution_count": null,
      "outputs": [
        {
          "output_type": "stream",
          "name": "stdout",
          "text": [
            "Epoch 1/100\n",
            "14/14 [==============================] - 16s 576ms/step - loss: 0.0129 - val_loss: 0.0940\n",
            "Epoch 2/100\n",
            "14/14 [==============================] - 10s 699ms/step - loss: 0.0031 - val_loss: 0.0148\n",
            "Epoch 3/100\n",
            "14/14 [==============================] - 6s 410ms/step - loss: 0.0017 - val_loss: 0.0046\n",
            "Epoch 4/100\n",
            "14/14 [==============================] - 7s 512ms/step - loss: 0.0011 - val_loss: 0.0228\n",
            "Epoch 5/100\n",
            "14/14 [==============================] - 6s 455ms/step - loss: 0.0010 - val_loss: 0.0129\n",
            "Epoch 6/100\n",
            "14/14 [==============================] - 7s 509ms/step - loss: 9.8712e-04 - val_loss: 0.0180\n",
            "Epoch 7/100\n",
            "14/14 [==============================] - 6s 408ms/step - loss: 9.9628e-04 - val_loss: 0.0092\n",
            "Epoch 8/100\n",
            "14/14 [==============================] - 7s 515ms/step - loss: 9.1989e-04 - val_loss: 0.0067\n",
            "Epoch 9/100\n",
            "14/14 [==============================] - 6s 408ms/step - loss: 9.0290e-04 - val_loss: 0.0100\n",
            "Epoch 10/100\n",
            "14/14 [==============================] - 7s 511ms/step - loss: 8.8028e-04 - val_loss: 0.0089\n",
            "Epoch 11/100\n",
            "14/14 [==============================] - 6s 409ms/step - loss: 8.5894e-04 - val_loss: 0.0056\n",
            "Epoch 12/100\n",
            "14/14 [==============================] - 7s 512ms/step - loss: 8.2997e-04 - val_loss: 0.0046\n",
            "Epoch 13/100\n",
            "14/14 [==============================] - 6s 404ms/step - loss: 8.1055e-04 - val_loss: 0.0060\n",
            "Epoch 14/100\n",
            "14/14 [==============================] - 7s 510ms/step - loss: 8.0921e-04 - val_loss: 0.0064\n",
            "Epoch 15/100\n",
            "14/14 [==============================] - 6s 409ms/step - loss: 8.1378e-04 - val_loss: 0.0084\n",
            "Epoch 16/100\n",
            "14/14 [==============================] - 7s 509ms/step - loss: 7.8736e-04 - val_loss: 0.0038\n",
            "Epoch 17/100\n",
            "14/14 [==============================] - 6s 410ms/step - loss: 7.6896e-04 - val_loss: 0.0033\n",
            "Epoch 18/100\n",
            "14/14 [==============================] - 7s 508ms/step - loss: 7.4304e-04 - val_loss: 0.0034\n",
            "Epoch 19/100\n",
            "14/14 [==============================] - 6s 407ms/step - loss: 6.9639e-04 - val_loss: 0.0031\n",
            "Epoch 20/100\n",
            "14/14 [==============================] - 7s 510ms/step - loss: 6.6422e-04 - val_loss: 0.0027\n",
            "Epoch 21/100\n",
            "14/14 [==============================] - 6s 407ms/step - loss: 6.5667e-04 - val_loss: 0.0024\n",
            "Epoch 22/100\n",
            "14/14 [==============================] - 7s 511ms/step - loss: 6.4531e-04 - val_loss: 0.0024\n",
            "Epoch 23/100\n",
            "14/14 [==============================] - 6s 403ms/step - loss: 6.1619e-04 - val_loss: 0.0032\n",
            "Epoch 24/100\n",
            "14/14 [==============================] - 7s 514ms/step - loss: 6.1197e-04 - val_loss: 0.0027\n",
            "Epoch 25/100\n",
            "14/14 [==============================] - 6s 404ms/step - loss: 6.3499e-04 - val_loss: 0.0023\n",
            "Epoch 26/100\n",
            "14/14 [==============================] - 7s 496ms/step - loss: 6.7399e-04 - val_loss: 0.0039\n",
            "Epoch 27/100\n",
            "14/14 [==============================] - 6s 415ms/step - loss: 5.7196e-04 - val_loss: 0.0019\n",
            "Epoch 28/100\n",
            "14/14 [==============================] - 9s 693ms/step - loss: 5.4655e-04 - val_loss: 0.0018\n",
            "Epoch 29/100\n",
            "14/14 [==============================] - 8s 546ms/step - loss: 5.2834e-04 - val_loss: 0.0029\n",
            "Epoch 30/100\n",
            "14/14 [==============================] - 7s 505ms/step - loss: 5.2269e-04 - val_loss: 0.0016\n",
            "Epoch 31/100\n",
            "14/14 [==============================] - 6s 408ms/step - loss: 5.0077e-04 - val_loss: 0.0018\n",
            "Epoch 32/100\n",
            "14/14 [==============================] - 7s 515ms/step - loss: 5.0729e-04 - val_loss: 0.0017\n",
            "Epoch 33/100\n",
            "14/14 [==============================] - 6s 410ms/step - loss: 5.0197e-04 - val_loss: 0.0016\n",
            "Epoch 34/100\n",
            "14/14 [==============================] - 7s 508ms/step - loss: 4.7920e-04 - val_loss: 0.0017\n",
            "Epoch 35/100\n",
            "14/14 [==============================] - 6s 407ms/step - loss: 4.8582e-04 - val_loss: 0.0016\n",
            "Epoch 36/100\n",
            "14/14 [==============================] - 7s 507ms/step - loss: 4.9219e-04 - val_loss: 0.0013\n",
            "Epoch 37/100\n",
            "14/14 [==============================] - 7s 527ms/step - loss: 4.3510e-04 - val_loss: 0.0025\n",
            "Epoch 38/100\n",
            "14/14 [==============================] - 7s 468ms/step - loss: 4.1555e-04 - val_loss: 0.0023\n",
            "Epoch 39/100\n",
            "14/14 [==============================] - 6s 410ms/step - loss: 4.2344e-04 - val_loss: 0.0031\n",
            "Epoch 40/100\n",
            "14/14 [==============================] - 7s 482ms/step - loss: 3.9961e-04 - val_loss: 0.0015\n",
            "Epoch 41/100\n",
            "14/14 [==============================] - 6s 408ms/step - loss: 3.9359e-04 - val_loss: 0.0014\n",
            "Epoch 42/100\n",
            "14/14 [==============================] - 7s 493ms/step - loss: 3.8914e-04 - val_loss: 0.0018\n",
            "Epoch 43/100\n",
            "14/14 [==============================] - 6s 408ms/step - loss: 3.7727e-04 - val_loss: 0.0013\n",
            "Epoch 44/100\n",
            "14/14 [==============================] - 7s 505ms/step - loss: 3.7505e-04 - val_loss: 0.0011\n",
            "Epoch 45/100\n",
            "14/14 [==============================] - 6s 409ms/step - loss: 4.0472e-04 - val_loss: 0.0033\n",
            "Epoch 46/100\n",
            "14/14 [==============================] - 7s 510ms/step - loss: 4.2403e-04 - val_loss: 0.0038\n",
            "Epoch 47/100\n",
            "14/14 [==============================] - 6s 408ms/step - loss: 3.7007e-04 - val_loss: 0.0025\n",
            "Epoch 48/100\n",
            "14/14 [==============================] - 7s 510ms/step - loss: 3.5160e-04 - val_loss: 0.0022\n",
            "Epoch 49/100\n",
            "14/14 [==============================] - 6s 406ms/step - loss: 3.5055e-04 - val_loss: 8.8533e-04\n",
            "Epoch 50/100\n",
            "14/14 [==============================] - 7s 504ms/step - loss: 3.4493e-04 - val_loss: 0.0012\n",
            "Epoch 51/100\n",
            "14/14 [==============================] - 6s 402ms/step - loss: 3.0961e-04 - val_loss: 0.0013\n",
            "Epoch 52/100\n",
            "14/14 [==============================] - 7s 508ms/step - loss: 3.0072e-04 - val_loss: 0.0013\n",
            "Epoch 53/100\n",
            "14/14 [==============================] - 6s 404ms/step - loss: 3.0316e-04 - val_loss: 0.0016\n",
            "Epoch 54/100\n",
            "14/14 [==============================] - 7s 508ms/step - loss: 2.9360e-04 - val_loss: 7.9057e-04\n",
            "Epoch 55/100\n",
            "14/14 [==============================] - 6s 403ms/step - loss: 2.8939e-04 - val_loss: 0.0016\n",
            "Epoch 56/100\n",
            "14/14 [==============================] - 7s 505ms/step - loss: 2.8101e-04 - val_loss: 0.0014\n",
            "Epoch 57/100\n",
            "14/14 [==============================] - 6s 401ms/step - loss: 3.1236e-04 - val_loss: 0.0018\n",
            "Epoch 58/100\n",
            "14/14 [==============================] - 7s 503ms/step - loss: 2.7921e-04 - val_loss: 0.0010\n",
            "Epoch 59/100\n",
            "14/14 [==============================] - 6s 405ms/step - loss: 2.6321e-04 - val_loss: 0.0011\n",
            "Epoch 60/100\n",
            "14/14 [==============================] - 7s 503ms/step - loss: 2.6993e-04 - val_loss: 0.0011\n",
            "Epoch 61/100\n",
            "14/14 [==============================] - 6s 466ms/step - loss: 2.5686e-04 - val_loss: 0.0013\n",
            "Epoch 62/100\n",
            "14/14 [==============================] - 8s 602ms/step - loss: 2.4119e-04 - val_loss: 7.1085e-04\n",
            "Epoch 63/100\n",
            "14/14 [==============================] - 6s 406ms/step - loss: 2.4993e-04 - val_loss: 0.0012\n",
            "Epoch 64/100\n",
            "14/14 [==============================] - 7s 506ms/step - loss: 2.4030e-04 - val_loss: 8.7112e-04\n",
            "Epoch 65/100\n",
            "14/14 [==============================] - 6s 402ms/step - loss: 2.2915e-04 - val_loss: 6.5821e-04\n",
            "Epoch 66/100\n",
            "14/14 [==============================] - 7s 506ms/step - loss: 2.6293e-04 - val_loss: 6.5242e-04\n",
            "Epoch 67/100\n",
            "14/14 [==============================] - 6s 404ms/step - loss: 2.7613e-04 - val_loss: 7.8386e-04\n",
            "Epoch 68/100\n",
            "14/14 [==============================] - 7s 508ms/step - loss: 2.3146e-04 - val_loss: 8.5413e-04\n",
            "Epoch 69/100\n",
            "14/14 [==============================] - 6s 403ms/step - loss: 2.5185e-04 - val_loss: 6.1693e-04\n",
            "Epoch 70/100\n",
            "14/14 [==============================] - 7s 508ms/step - loss: 2.2126e-04 - val_loss: 6.4508e-04\n",
            "Epoch 71/100\n",
            "14/14 [==============================] - 6s 404ms/step - loss: 2.1619e-04 - val_loss: 6.0752e-04\n",
            "Epoch 72/100\n",
            "14/14 [==============================] - 7s 507ms/step - loss: 2.1586e-04 - val_loss: 6.1792e-04\n",
            "Epoch 73/100\n",
            "14/14 [==============================] - 6s 404ms/step - loss: 2.0362e-04 - val_loss: 6.1838e-04\n",
            "Epoch 74/100\n",
            "14/14 [==============================] - 7s 503ms/step - loss: 2.0761e-04 - val_loss: 0.0012\n",
            "Epoch 75/100\n",
            "14/14 [==============================] - 7s 512ms/step - loss: 2.2602e-04 - val_loss: 7.2607e-04\n",
            "Epoch 76/100\n",
            "14/14 [==============================] - 7s 509ms/step - loss: 2.1646e-04 - val_loss: 9.0426e-04\n",
            "Epoch 77/100\n",
            "14/14 [==============================] - 6s 406ms/step - loss: 2.1230e-04 - val_loss: 6.0361e-04\n",
            "Epoch 78/100\n",
            "14/14 [==============================] - 7s 511ms/step - loss: 1.8795e-04 - val_loss: 5.8400e-04\n",
            "Epoch 79/100\n",
            "14/14 [==============================] - 6s 404ms/step - loss: 1.8717e-04 - val_loss: 5.4207e-04\n",
            "Epoch 80/100\n",
            "14/14 [==============================] - 7s 504ms/step - loss: 1.8163e-04 - val_loss: 9.4394e-04\n",
            "Epoch 81/100\n",
            "14/14 [==============================] - 6s 406ms/step - loss: 1.9085e-04 - val_loss: 9.5341e-04\n",
            "Epoch 82/100\n",
            "14/14 [==============================] - 7s 510ms/step - loss: 1.7334e-04 - val_loss: 6.0609e-04\n",
            "Epoch 83/100\n",
            "14/14 [==============================] - 6s 405ms/step - loss: 1.7477e-04 - val_loss: 9.0638e-04\n",
            "Epoch 84/100\n",
            "14/14 [==============================] - 7s 505ms/step - loss: 1.8284e-04 - val_loss: 0.0013\n",
            "Epoch 85/100\n",
            "14/14 [==============================] - 6s 402ms/step - loss: 1.8255e-04 - val_loss: 5.4963e-04\n",
            "Epoch 86/100\n",
            "14/14 [==============================] - 7s 493ms/step - loss: 2.0346e-04 - val_loss: 5.7723e-04\n",
            "Epoch 87/100\n",
            "14/14 [==============================] - 6s 404ms/step - loss: 1.7123e-04 - val_loss: 5.4553e-04\n",
            "Epoch 88/100\n",
            "14/14 [==============================] - 7s 476ms/step - loss: 1.6867e-04 - val_loss: 0.0010\n",
            "Epoch 89/100\n",
            "14/14 [==============================] - 6s 408ms/step - loss: 1.8927e-04 - val_loss: 8.2403e-04\n",
            "Epoch 90/100\n",
            "14/14 [==============================] - 6s 455ms/step - loss: 1.5858e-04 - val_loss: 5.6464e-04\n",
            "Epoch 91/100\n",
            "14/14 [==============================] - 6s 432ms/step - loss: 1.5970e-04 - val_loss: 0.0012\n",
            "Epoch 92/100\n",
            "14/14 [==============================] - 6s 440ms/step - loss: 1.6043e-04 - val_loss: 5.4461e-04\n",
            "Epoch 93/100\n",
            "14/14 [==============================] - 6s 446ms/step - loss: 1.6345e-04 - val_loss: 7.6374e-04\n",
            "Epoch 94/100\n",
            "14/14 [==============================] - 6s 413ms/step - loss: 1.6937e-04 - val_loss: 0.0017\n",
            "Epoch 95/100\n",
            "14/14 [==============================] - 7s 469ms/step - loss: 1.9318e-04 - val_loss: 8.4707e-04\n",
            "Epoch 96/100\n",
            "14/14 [==============================] - 6s 404ms/step - loss: 1.6833e-04 - val_loss: 8.0233e-04\n",
            "Epoch 97/100\n",
            "14/14 [==============================] - 7s 492ms/step - loss: 1.5629e-04 - val_loss: 9.0251e-04\n",
            "Epoch 98/100\n",
            "14/14 [==============================] - 6s 404ms/step - loss: 1.5511e-04 - val_loss: 5.6429e-04\n",
            "Epoch 99/100\n",
            "14/14 [==============================] - 7s 507ms/step - loss: 1.6867e-04 - val_loss: 6.3798e-04\n",
            "Epoch 100/100\n",
            "14/14 [==============================] - 6s 404ms/step - loss: 1.6280e-04 - val_loss: 6.6711e-04\n"
          ]
        },
        {
          "output_type": "execute_result",
          "data": {
            "text/plain": [
              "<tensorflow.python.keras.callbacks.History at 0x7f0be1f7c940>"
            ]
          },
          "metadata": {},
          "execution_count": 18
        }
      ]
    },
    {
      "cell_type": "markdown",
      "source": [
        "**Model Prediction**"
      ],
      "metadata": {
        "id": "whLoEoHR7rlI"
      }
    },
    {
      "cell_type": "code",
      "source": [
        "train_prediction=model.predict(X_train)\n",
        "test_prediction=model.predict(X_test)"
      ],
      "metadata": {
        "id": "Y7LQZqQH_6oX"
      },
      "execution_count": null,
      "outputs": []
    },
    {
      "cell_type": "code",
      "source": [
        "from math import sqrt\n",
        "from sklearn.metrics import mean_squared_error\n",
        "train_error=sqrt(mean_squared_error(Y_train,train_prediction))\n",
        "test_error=sqrt(mean_squared_error(Y_test,test_prediction))\n",
        "train_error, test_error"
      ],
      "metadata": {
        "colab": {
          "base_uri": "https://localhost:8080/"
        },
        "id": "KEl043hyCYv4",
        "outputId": "3f7f4185-275a-481e-c914-903d9ea3f3b4"
      },
      "execution_count": null,
      "outputs": [
        {
          "output_type": "execute_result",
          "data": {
            "text/plain": [
              "(0.01220696420456059, 0.02582856227414471)"
            ]
          },
          "metadata": {},
          "execution_count": 20
        }
      ]
    },
    {
      "cell_type": "code",
      "source": [
        "train_prediction=scaler.inverse_transform(train_prediction)\n",
        "test_prediction=scaler.inverse_transform(test_prediction)"
      ],
      "metadata": {
        "id": "YD8g9ERAFDl2"
      },
      "execution_count": null,
      "outputs": []
    },
    {
      "cell_type": "code",
      "source": [
        "steps_back=100\n",
        "train_predictplot=np.empty_like(stock_high)\n",
        "train_predictplot[:,:]=np.nan\n",
        "train_predictplot[steps_back:len(train_prediction)+steps_back,:]=train_prediction\n",
        "\n",
        "\n",
        "test_predictplot=np.empty_like(stock_high)\n",
        "test_predictplot[:,:]=np.nan\n",
        "test_predictplot[len(train_prediction)+(steps_back *2)+1 :len(stock_high)-1, :]=test_prediction"
      ],
      "metadata": {
        "id": "MqBkTdo_HOf8"
      },
      "execution_count": null,
      "outputs": []
    },
    {
      "cell_type": "markdown",
      "source": [
        "**Data Visualization**"
      ],
      "metadata": {
        "id": "0owEvg_979bz"
      }
    },
    {
      "cell_type": "code",
      "source": [
        "plt.plot(scaler.inverse_transform(stock_high))\n",
        "plt.plot(train_predictplot)\n",
        "plt.plot(test_predictplot)\n",
        "\n",
        "plt.legend(labels =['Total data','Trained data','Predicted data'])\n",
        "plt.show()"
      ],
      "metadata": {
        "colab": {
          "base_uri": "https://localhost:8080/",
          "height": 265
        },
        "id": "a7czYAQRIpiA",
        "outputId": "01f96094-7cdb-4bcc-bc25-c11171a71805"
      },
      "execution_count": null,
      "outputs": [
        {
          "output_type": "display_data",
          "data": {
            "text/plain": [
              "<Figure size 432x288 with 1 Axes>"
            ],
            "image/png": "[encoded data removed]"
          },
          "metadata": {
            "needs_background": "light"
          }
        }
      ]
    }
  ]
}